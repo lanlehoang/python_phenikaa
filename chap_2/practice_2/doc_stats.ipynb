{
 "cells": [
  {
   "cell_type": "markdown",
   "metadata": {},
   "source": [
    "# Read a piece of English text"
   ]
  },
  {
   "cell_type": "code",
   "execution_count": 22,
   "metadata": {},
   "outputs": [
    {
     "name": "stdout",
     "output_type": "stream",
     "text": [
      "Emotional document downloaded and written to eng_document.txt\n"
     ]
    }
   ],
   "source": [
    "import requests\n",
    "\n",
    "# Download an emotional historical letter from Project Gutenberg\n",
    "url = 'https://www.gutenberg.org/cache/epub/6/pg6.txt'  # Contains several documents including Bixby Letter\n",
    "response = requests.get(url)\n",
    "response.raise_for_status()\n",
    "\n",
    "# Write the content to a file\n",
    "FILE_NAME = \"eng_document.txt\"\n",
    "with open(FILE_NAME, 'w', encoding='utf-8') as file:\n",
    "    file.write(response.text)\n",
    "\n",
    "print(f'Emotional document downloaded and written to {FILE_NAME}')"
   ]
  },
  {
   "cell_type": "code",
   "execution_count": null,
   "metadata": {},
   "outputs": [
    {
     "name": "stdout",
     "output_type": "stream",
     "text": [
      "Start index: 1004, End index: 15596\n",
      "The beginning: Give Me Liberty Or Give Me Death\n",
      "******This file should be named 6.txt or 6.zip*****\n",
      "December, 1975 \n"
     ]
    }
   ],
   "source": [
    "# Process the text file\n",
    "# Get the story content only\n",
    "with open(FILE_NAME, 'r', encoding='utf-8') as file:\n",
    "    text = file.read()\n",
    "    # Extract the story content\n",
    "    start_index = text.find(\"Patrick Henry, March 23, 1775.\")\n",
    "    end_index = text.find(\"give me liberty or give me death!\")\n",
    "    story_content = text[start_index:end_index].strip()\n",
    "    # Remove illustrations and other non-story content\n",
    "    story_lines = [line for line in story_content.split('\\n') if line and not line.startswith('[')]\n",
    "    # Join the lines to form the final story text\n",
    "    story_text = '\\n'.join(story_lines)\n",
    "print(f\"Start index: {start_index}, End index: {end_index}\")\n",
    "print(f\"The beginning: {story_text[:100]}\")\n",
    "print(f\"The ending: {story_text[-100:]}\")"
   ]
  },
  {
   "cell_type": "markdown",
   "metadata": {},
   "source": [
    "# Count the words in the text"
   ]
  },
  {
   "cell_type": "code",
   "execution_count": 21,
   "metadata": {},
   "outputs": [
    {
     "name": "stdout",
     "output_type": "stream",
     "text": [
      "Most common words:\n",
      "the: 43\n",
      "and: 41\n",
      "to: 30\n",
      "he: 28\n",
      "a: 27\n",
      "was: 24\n",
      "Peter: 15\n",
      "in: 14\n",
      "of: 14\n",
      "Mr.: 12\n",
      "his: 12\n",
      "but: 11\n",
      "had: 11\n",
      "some: 8\n",
      "McGregor: 8\n"
     ]
    }
   ],
   "source": [
    "from collections import Counter\n",
    "\n",
    "word_counts = Counter(story_text.split())\n",
    "# Get the 10 most common words\n",
    "most_common_words = word_counts.most_common(15)\n",
    "print(\"Most common words:\")\n",
    "for word, count in most_common_words:\n",
    "    print(f\"{word}: {count}\")"
   ]
  },
  {
   "cell_type": "code",
   "execution_count": null,
   "metadata": {},
   "outputs": [],
   "source": []
  }
 ],
 "metadata": {
  "kernelspec": {
   "display_name": "Python 3",
   "language": "python",
   "name": "python3"
  },
  "language_info": {
   "codemirror_mode": {
    "name": "ipython",
    "version": 3
   },
   "file_extension": ".py",
   "mimetype": "text/x-python",
   "name": "python",
   "nbconvert_exporter": "python",
   "pygments_lexer": "ipython3",
   "version": "3.10.12"
  }
 },
 "nbformat": 4,
 "nbformat_minor": 2
}
