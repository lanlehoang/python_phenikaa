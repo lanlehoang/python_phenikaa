{
 "cells": [
  {
   "cell_type": "markdown",
   "id": "1187dde5",
   "metadata": {},
   "source": [
    "# Preprocessing"
   ]
  },
  {
   "cell_type": "markdown",
   "id": "6e771680",
   "metadata": {},
   "source": [
    "## Load all data"
   ]
  },
  {
   "cell_type": "code",
   "execution_count": 3,
   "id": "815febfc",
   "metadata": {},
   "outputs": [],
   "source": [
    "sentences = []\n",
    "topics = []\n",
    "sentiments = []\n",
    "datasets = []\n",
    "\n",
    "for dataset in ['train', 'valid', 'test']:\n",
    "    with open(f\"data/{dataset}-sentences.txt\", \"r\") as f:\n",
    "        texts = [sen.strip() for sen in f.readlines()]\n",
    "        sentences.extend(texts)\n",
    "    with open(f\"data/{dataset}-topics.txt\", \"r\") as f:\n",
    "        topics.extend(list(map(lambda x: int(x.strip()), f.readlines())))\n",
    "    with open(f\"data/{dataset}-sentiments.txt\", \"r\") as f:\n",
    "        sentiments.extend(list(map(lambda x: int(x.strip()), f.readlines())))\n",
    "    datasets.extend([dataset]*len(texts))\n"
   ]
  },
  {
   "cell_type": "code",
   "execution_count": 4,
   "id": "1453a8f3",
   "metadata": {},
   "outputs": [
    {
     "data": {
      "text/html": [
       "<div>\n",
       "<style scoped>\n",
       "    .dataframe tbody tr th:only-of-type {\n",
       "        vertical-align: middle;\n",
       "    }\n",
       "\n",
       "    .dataframe tbody tr th {\n",
       "        vertical-align: top;\n",
       "    }\n",
       "\n",
       "    .dataframe thead th {\n",
       "        text-align: right;\n",
       "    }\n",
       "</style>\n",
       "<table border=\"1\" class=\"dataframe\">\n",
       "  <thead>\n",
       "    <tr style=\"text-align: right;\">\n",
       "      <th></th>\n",
       "      <th>sentence</th>\n",
       "      <th>topic</th>\n",
       "      <th>sentiment</th>\n",
       "      <th>dataset</th>\n",
       "    </tr>\n",
       "  </thead>\n",
       "  <tbody>\n",
       "    <tr>\n",
       "      <th>0</th>\n",
       "      <td>slide giáo trình đầy đủ .</td>\n",
       "      <td>1</td>\n",
       "      <td>2</td>\n",
       "      <td>train</td>\n",
       "    </tr>\n",
       "    <tr>\n",
       "      <th>1</th>\n",
       "      <td>nhiệt tình giảng dạy , gần gũi với sinh viên .</td>\n",
       "      <td>0</td>\n",
       "      <td>2</td>\n",
       "      <td>train</td>\n",
       "    </tr>\n",
       "    <tr>\n",
       "      <th>2</th>\n",
       "      <td>đi học đầy đủ full điểm chuyên cần .</td>\n",
       "      <td>1</td>\n",
       "      <td>0</td>\n",
       "      <td>train</td>\n",
       "    </tr>\n",
       "    <tr>\n",
       "      <th>3</th>\n",
       "      <td>chưa áp dụng công nghệ thông tin và các thiết ...</td>\n",
       "      <td>0</td>\n",
       "      <td>0</td>\n",
       "      <td>train</td>\n",
       "    </tr>\n",
       "    <tr>\n",
       "      <th>4</th>\n",
       "      <td>thầy giảng bài hay , có nhiều bài tập ví dụ ng...</td>\n",
       "      <td>0</td>\n",
       "      <td>2</td>\n",
       "      <td>train</td>\n",
       "    </tr>\n",
       "  </tbody>\n",
       "</table>\n",
       "</div>"
      ],
      "text/plain": [
       "                                            sentence  topic  sentiment dataset\n",
       "0                          slide giáo trình đầy đủ .      1          2   train\n",
       "1     nhiệt tình giảng dạy , gần gũi với sinh viên .      0          2   train\n",
       "2               đi học đầy đủ full điểm chuyên cần .      1          0   train\n",
       "3  chưa áp dụng công nghệ thông tin và các thiết ...      0          0   train\n",
       "4  thầy giảng bài hay , có nhiều bài tập ví dụ ng...      0          2   train"
      ]
     },
     "execution_count": 4,
     "metadata": {},
     "output_type": "execute_result"
    }
   ],
   "source": [
    "import pandas as pd\n",
    "\n",
    "df = pd.DataFrame({\n",
    "    \"sentence\": sentences,\n",
    "    \"topic\": topics,\n",
    "    \"sentiment\": sentiments,\n",
    "    \"dataset\": datasets\n",
    "})\n",
    "\n",
    "df.head()"
   ]
  },
  {
   "cell_type": "markdown",
   "id": "14ec3c09",
   "metadata": {},
   "source": [
    "Note:\n",
    "- sentiment: Sentiment class, with values 0 (negative), 1 (neutral) and 2 (positive).\n",
    "- topic: Topic class, with values 0 (lecturer), 1 (training program), 2 (facility) and 3 (others)."
   ]
  },
  {
   "cell_type": "code",
   "execution_count": 5,
   "id": "227e5cff",
   "metadata": {},
   "outputs": [
    {
     "name": "stdout",
     "output_type": "stream",
     "text": [
      "Number of samples in each set:\n",
      "dataset\n",
      "train    11426\n",
      "test      3166\n",
      "valid     1583\n",
      "Name: count, dtype: int64\n",
      "Total number of data samples: 16175\n"
     ]
    }
   ],
   "source": [
    "print(f\"Number of samples in each set:\")\n",
    "print(df['dataset'].value_counts())\n",
    "print(f\"Total number of data samples: {len(df)}\")"
   ]
  },
  {
   "cell_type": "markdown",
   "id": "5c6b8182",
   "metadata": {},
   "source": [
    "## Preprocessing sentences"
   ]
  },
  {
   "cell_type": "code",
   "execution_count": 6,
   "id": "9dd5aaca",
   "metadata": {},
   "outputs": [
    {
     "name": "stdout",
     "output_type": "stream",
     "text": [
      "Downloaded successfully.\n",
      "Number of stopwords: 1942\n",
      "Some stopwords: ['a_lô', 'a_ha', 'ai', 'ai_ai', 'ai_nấy', 'ai_đó', 'alô', 'amen', 'anh', 'anh_ấy']\n"
     ]
    }
   ],
   "source": [
    "# Get the list of Vietnamese stopwords\n",
    "import requests\n",
    "\n",
    "url = \"https://raw.githubusercontent.com/stopwords/vietnamese-stopwords/refs/heads/master/vietnamese-stopwords-dash.txt\"\n",
    "response = requests.get(url)\n",
    "\n",
    "if response.status_code == 200:\n",
    "    stopwords = response.text.splitlines()\n",
    "    print(\"Downloaded successfully.\")\n",
    "    print(f\"Number of stopwords: {len(stopwords)}\")\n",
    "    print(f\"Some stopwords: {stopwords[:10]}\")\n",
    "else:\n",
    "    print(f\"Failed to download. Status code: {response.status_code}\")"
   ]
  },
  {
   "cell_type": "code",
   "execution_count": 7,
   "id": "db1b122d",
   "metadata": {},
   "outputs": [],
   "source": [
    "from typing import List\n",
    "import re\n",
    "from pyvi import ViTokenizer\n",
    "\n",
    "def preprocess_text(sen: str) -> List[str]:\n",
    "    \"\"\"\n",
    "    Apply the following operations on each sentence:\n",
    "    - Convert to lowercase\n",
    "    - Remove punctuation marks\n",
    "    - Tokenize the sentence\n",
    "    - Remove stopwords\n",
    "    \"\"\"\n",
    "    # Convert to lowercase\n",
    "    sen = sen.lower()\n",
    "\n",
    "    # Remove punctuation marks\n",
    "    sen = re.sub(r'[^\\w\\s]', '', sen)\n",
    "\n",
    "    # Tokenize using pyvi\n",
    "    tokens = ViTokenizer.tokenize(sen).split()\n",
    "\n",
    "    # Remove stopwords\n",
    "    tokens = [token for token in tokens if token not in stopwords]\n",
    "    \n",
    "    return tokens"
   ]
  },
  {
   "cell_type": "code",
   "execution_count": 8,
   "id": "386bbf67",
   "metadata": {},
   "outputs": [
    {
     "data": {
      "text/html": [
       "<div>\n",
       "<style scoped>\n",
       "    .dataframe tbody tr th:only-of-type {\n",
       "        vertical-align: middle;\n",
       "    }\n",
       "\n",
       "    .dataframe tbody tr th {\n",
       "        vertical-align: top;\n",
       "    }\n",
       "\n",
       "    .dataframe thead th {\n",
       "        text-align: right;\n",
       "    }\n",
       "</style>\n",
       "<table border=\"1\" class=\"dataframe\">\n",
       "  <thead>\n",
       "    <tr style=\"text-align: right;\">\n",
       "      <th></th>\n",
       "      <th>sentence</th>\n",
       "      <th>topic</th>\n",
       "      <th>sentiment</th>\n",
       "      <th>dataset</th>\n",
       "      <th>tokens</th>\n",
       "    </tr>\n",
       "  </thead>\n",
       "  <tbody>\n",
       "    <tr>\n",
       "      <th>0</th>\n",
       "      <td>slide giáo trình đầy đủ .</td>\n",
       "      <td>1</td>\n",
       "      <td>2</td>\n",
       "      <td>train</td>\n",
       "      <td>[slide, giáo_trình, đầy_đủ]</td>\n",
       "    </tr>\n",
       "    <tr>\n",
       "      <th>1</th>\n",
       "      <td>nhiệt tình giảng dạy , gần gũi với sinh viên .</td>\n",
       "      <td>0</td>\n",
       "      <td>2</td>\n",
       "      <td>train</td>\n",
       "      <td>[nhiệt_tình, giảng_dạy, gần_gũi, sinh_viên]</td>\n",
       "    </tr>\n",
       "    <tr>\n",
       "      <th>2</th>\n",
       "      <td>đi học đầy đủ full điểm chuyên cần .</td>\n",
       "      <td>1</td>\n",
       "      <td>0</td>\n",
       "      <td>train</td>\n",
       "      <td>[đi, học, đầy_đủ, full, chuyên_cần]</td>\n",
       "    </tr>\n",
       "    <tr>\n",
       "      <th>3</th>\n",
       "      <td>chưa áp dụng công nghệ thông tin và các thiết ...</td>\n",
       "      <td>0</td>\n",
       "      <td>0</td>\n",
       "      <td>train</td>\n",
       "      <td>[áp_dụng, công_nghệ, thông_tin, thiết_bị, giản...</td>\n",
       "    </tr>\n",
       "    <tr>\n",
       "      <th>4</th>\n",
       "      <td>thầy giảng bài hay , có nhiều bài tập ví dụ ng...</td>\n",
       "      <td>0</td>\n",
       "      <td>2</td>\n",
       "      <td>train</td>\n",
       "      <td>[thầy, giảng, bài_tập, ví_dụ, lớp]</td>\n",
       "    </tr>\n",
       "  </tbody>\n",
       "</table>\n",
       "</div>"
      ],
      "text/plain": [
       "                                            sentence  topic  sentiment   \n",
       "0                          slide giáo trình đầy đủ .      1          2  \\\n",
       "1     nhiệt tình giảng dạy , gần gũi với sinh viên .      0          2   \n",
       "2               đi học đầy đủ full điểm chuyên cần .      1          0   \n",
       "3  chưa áp dụng công nghệ thông tin và các thiết ...      0          0   \n",
       "4  thầy giảng bài hay , có nhiều bài tập ví dụ ng...      0          2   \n",
       "\n",
       "  dataset                                             tokens  \n",
       "0   train                        [slide, giáo_trình, đầy_đủ]  \n",
       "1   train        [nhiệt_tình, giảng_dạy, gần_gũi, sinh_viên]  \n",
       "2   train                [đi, học, đầy_đủ, full, chuyên_cần]  \n",
       "3   train  [áp_dụng, công_nghệ, thông_tin, thiết_bị, giản...  \n",
       "4   train                 [thầy, giảng, bài_tập, ví_dụ, lớp]  "
      ]
     },
     "execution_count": 8,
     "metadata": {},
     "output_type": "execute_result"
    }
   ],
   "source": [
    "df[\"tokens\"] = df[\"sentence\"].apply(preprocess_text)\n",
    "df.head()"
   ]
  },
  {
   "cell_type": "code",
   "execution_count": 9,
   "id": "019b1b97",
   "metadata": {},
   "outputs": [],
   "source": [
    "# Save to file\n",
    "df.to_csv(\"data/preprocessed_data.csv\", index=False)"
   ]
  },
  {
   "cell_type": "markdown",
   "id": "f60f4927",
   "metadata": {},
   "source": [
    "# EDA"
   ]
  },
  {
   "cell_type": "code",
   "execution_count": 10,
   "id": "2ad7e656",
   "metadata": {},
   "outputs": [
    {
     "data": {
      "text/html": [
       "<div>\n",
       "<style scoped>\n",
       "    .dataframe tbody tr th:only-of-type {\n",
       "        vertical-align: middle;\n",
       "    }\n",
       "\n",
       "    .dataframe tbody tr th {\n",
       "        vertical-align: top;\n",
       "    }\n",
       "\n",
       "    .dataframe thead th {\n",
       "        text-align: right;\n",
       "    }\n",
       "</style>\n",
       "<table border=\"1\" class=\"dataframe\">\n",
       "  <thead>\n",
       "    <tr style=\"text-align: right;\">\n",
       "      <th></th>\n",
       "      <th>sentence</th>\n",
       "      <th>topic</th>\n",
       "      <th>sentiment</th>\n",
       "      <th>dataset</th>\n",
       "      <th>tokens</th>\n",
       "    </tr>\n",
       "  </thead>\n",
       "  <tbody>\n",
       "    <tr>\n",
       "      <th>0</th>\n",
       "      <td>slide giáo trình đầy đủ .</td>\n",
       "      <td>1</td>\n",
       "      <td>2</td>\n",
       "      <td>train</td>\n",
       "      <td>[slide, giáo_trình, đầy_đủ]</td>\n",
       "    </tr>\n",
       "    <tr>\n",
       "      <th>1</th>\n",
       "      <td>nhiệt tình giảng dạy , gần gũi với sinh viên .</td>\n",
       "      <td>0</td>\n",
       "      <td>2</td>\n",
       "      <td>train</td>\n",
       "      <td>[nhiệt_tình, giảng_dạy, gần_gũi, sinh_viên]</td>\n",
       "    </tr>\n",
       "    <tr>\n",
       "      <th>2</th>\n",
       "      <td>đi học đầy đủ full điểm chuyên cần .</td>\n",
       "      <td>1</td>\n",
       "      <td>0</td>\n",
       "      <td>train</td>\n",
       "      <td>[đi, học, đầy_đủ, full, chuyên_cần]</td>\n",
       "    </tr>\n",
       "    <tr>\n",
       "      <th>3</th>\n",
       "      <td>chưa áp dụng công nghệ thông tin và các thiết ...</td>\n",
       "      <td>0</td>\n",
       "      <td>0</td>\n",
       "      <td>train</td>\n",
       "      <td>[áp_dụng, công_nghệ, thông_tin, thiết_bị, giản...</td>\n",
       "    </tr>\n",
       "    <tr>\n",
       "      <th>4</th>\n",
       "      <td>thầy giảng bài hay , có nhiều bài tập ví dụ ng...</td>\n",
       "      <td>0</td>\n",
       "      <td>2</td>\n",
       "      <td>train</td>\n",
       "      <td>[thầy, giảng, bài_tập, ví_dụ, lớp]</td>\n",
       "    </tr>\n",
       "  </tbody>\n",
       "</table>\n",
       "</div>"
      ],
      "text/plain": [
       "                                            sentence  topic  sentiment   \n",
       "0                          slide giáo trình đầy đủ .      1          2  \\\n",
       "1     nhiệt tình giảng dạy , gần gũi với sinh viên .      0          2   \n",
       "2               đi học đầy đủ full điểm chuyên cần .      1          0   \n",
       "3  chưa áp dụng công nghệ thông tin và các thiết ...      0          0   \n",
       "4  thầy giảng bài hay , có nhiều bài tập ví dụ ng...      0          2   \n",
       "\n",
       "  dataset                                             tokens  \n",
       "0   train                        [slide, giáo_trình, đầy_đủ]  \n",
       "1   train        [nhiệt_tình, giảng_dạy, gần_gũi, sinh_viên]  \n",
       "2   train                [đi, học, đầy_đủ, full, chuyên_cần]  \n",
       "3   train  [áp_dụng, công_nghệ, thông_tin, thiết_bị, giản...  \n",
       "4   train                 [thầy, giảng, bài_tập, ví_dụ, lớp]  "
      ]
     },
     "execution_count": 10,
     "metadata": {},
     "output_type": "execute_result"
    }
   ],
   "source": [
    "import pandas as pd\n",
    "import ast\n",
    "\n",
    "# Reload the processed data\n",
    "df = pd.read_csv(\"data/preprocessed_data.csv\")\n",
    "df[\"tokens\"] = df[\"tokens\"].apply(ast.literal_eval) # Fix tokens interpreted as a single string\n",
    "\n",
    "df_train = df[df['dataset'] == 'train']\n",
    "df_train.head()"
   ]
  },
  {
   "cell_type": "markdown",
   "id": "6194b6f5",
   "metadata": {},
   "source": [
    "Note: Perform EDA on the train set only (valid and test sets are supposed to be unknown)"
   ]
  },
  {
   "cell_type": "code",
   "execution_count": 11,
   "id": "961b6703",
   "metadata": {},
   "outputs": [
    {
     "name": "stdout",
     "output_type": "stream",
     "text": [
      "Count the number of responses grouped by topic and sentiment\n",
      "    topic  sentiment  count\n",
      "0       0          0   2909\n",
      "1       0          1    186\n",
      "2       0          2   5071\n",
      "3       1          0   1716\n",
      "4       1          1    101\n",
      "5       1          2    384\n",
      "6       2          0    474\n",
      "7       2          1     10\n",
      "8       2          2     13\n",
      "9       3          0    226\n",
      "10      3          1    161\n",
      "11      3          2    175\n"
     ]
    }
   ],
   "source": [
    "print(\"Count the number of responses grouped by topic and sentiment\")\n",
    "\n",
    "df_top_sent = df_train.groupby(['topic', 'sentiment']).size().reset_index(name='count') \\\n",
    "    .sort_values(by=['topic', 'sentiment'])\n",
    "print(df_top_sent)"
   ]
  },
  {
   "cell_type": "code",
   "execution_count": 12,
   "id": "92663af3",
   "metadata": {},
   "outputs": [
    {
     "name": "stdout",
     "output_type": "stream",
     "text": [
      "[[2909  186 5071]\n",
      " [1716  101  384]\n",
      " [ 474   10   13]\n",
      " [ 226  161  175]]\n"
     ]
    }
   ],
   "source": [
    "import numpy as np\n",
    "\n",
    "top_sent_mat = np.array(df_top_sent['count']).reshape(4, 3)\n",
    "print(top_sent_mat)"
   ]
  },
  {
   "cell_type": "markdown",
   "id": "a7ea3e0f",
   "metadata": {},
   "source": [
    "## Visualization"
   ]
  },
  {
   "cell_type": "code",
   "execution_count": 13,
   "id": "c13ede3e",
   "metadata": {},
   "outputs": [
    {
     "data": {
      "image/png": "[encoded data removed]",
      "text/plain": [
       "<Figure size 600x600 with 1 Axes>"
      ]
     },
     "metadata": {},
     "output_type": "display_data"
    }
   ],
   "source": [
    "import matplotlib.pyplot as plt\n",
    "import seaborn as sns\n",
    "\n",
    "plt.figure(figsize=(6, 6))\n",
    "sns.heatmap(top_sent_mat, annot=True, fmt='d', cmap='coolwarm', cbar=False,\n",
    "            xticklabels=['Negative', 'Neutral', 'Positive'],\n",
    "            yticklabels=['Lecturer', 'Training Program', 'Facility', 'Others'])\n",
    "plt.title(\"Count of Responses by Topic and Sentiment\")\n",
    "plt.xlabel(\"Sentiment\")\n",
    "plt.ylabel(\"Topic\")\n",
    "plt.show()"
   ]
  },
  {
   "cell_type": "code",
   "execution_count": 14,
   "id": "93ada8c7",
   "metadata": {},
   "outputs": [
    {
     "data": {
      "image/png": "[encoded data removed]",
      "text/plain": [
       "<Figure size 1000x500 with 2 Axes>"
      ]
     },
     "metadata": {},
     "output_type": "display_data"
    }
   ],
   "source": [
    "# Bar plot for topics\n",
    "plt.figure(figsize=(10, 5))\n",
    "plt.subplot(1, 2, 1)\n",
    "topic_counts = df_train['topic'].value_counts().sort_index()\n",
    "plt.bar(['Lecturer', 'Training Program', 'Facility', 'Others'], topic_counts)\n",
    "plt.title('Distribution of Topics')\n",
    "plt.xlabel('Topic')\n",
    "plt.ylabel('Count')\n",
    "plt.grid('-')\n",
    "\n",
    "# Bar plot for sentiments\n",
    "plt.subplot(1, 2, 2)\n",
    "sentiment_counts = df_train['sentiment'].value_counts().sort_index()\n",
    "plt.bar(['Negative', 'Neutral', 'Positive'], sentiment_counts)\n",
    "plt.title('Distribution of Sentiments')\n",
    "plt.xlabel('Sentiment')\n",
    "plt.ylabel('Count')\n",
    "plt.grid('-')\n",
    "\n",
    "plt.tight_layout()\n",
    "plt.show()"
   ]
  },
  {
   "cell_type": "markdown",
   "id": "f47b159c",
   "metadata": {},
   "source": [
    "## Word frequency analysis"
   ]
  },
  {
   "cell_type": "code",
   "execution_count": 15,
   "id": "4ade393c",
   "metadata": {},
   "outputs": [
    {
     "name": "stdout",
     "output_type": "stream",
     "text": [
      "\n",
      "Analyzing word frequencies for sentiment: Negative\n",
      "Most common words in training set (sentiment Negative):\n",
      "sinh_viên: 1314\n",
      "thầy: 1168\n",
      "học: 917\n",
      "thực_hành: 712\n",
      "dạy: 688\n",
      "giảng_viên: 679\n",
      "bài_tập: 624\n",
      "môn_học: 496\n",
      "giảng: 465\n",
      "lớp: 386\n",
      "\n",
      "Analyzing word frequencies for sentiment: Neutral\n",
      "Most common words in training set (sentiment Neutral):\n",
      "thầy: 93\n",
      "học: 47\n",
      "sinh_viên: 34\n",
      "bài_tập: 32\n",
      "ý_kiến: 29\n",
      "dạy: 28\n",
      "thực_hành: 27\n",
      "lớp: 25\n",
      "giảng_viên: 24\n",
      "môn: 20\n",
      "\n",
      "Analyzing word frequencies for sentiment: Positive\n",
      "Most common words in training set (sentiment Positive):\n",
      "thầy: 1812\n",
      "nhiệt_tình: 1741\n",
      "dạy: 1445\n",
      "sinh_viên: 1332\n",
      "giảng_viên: 906\n",
      "giảng_dạy: 671\n",
      "giảng: 626\n",
      "kiến_thức: 554\n",
      "tận_tâm: 539\n",
      "bài_tập: 392\n"
     ]
    }
   ],
   "source": [
    "from collections import Counter\n",
    "\n",
    "for label, sent in zip(range(3), ['Negative', 'Neutral', 'Positive']):\n",
    "    print(f\"\\nAnalyzing word frequencies for sentiment: {sent}\")\n",
    "    # Count word frequencies\n",
    "    word_counts = Counter()\n",
    "    for tokens in df_train[df_train.sentiment == label]['tokens']:\n",
    "        word_counts.update(tokens)\n",
    "\n",
    "    # Get the most common words\n",
    "    most_common_words = word_counts.most_common(10)\n",
    "    \n",
    "    print(f\"Most common words in training set (sentiment {sent}):\")\n",
    "    for word, count in most_common_words:\n",
    "        print(f\"{word}: {count}\")"
   ]
  },
  {
   "cell_type": "markdown",
   "id": "1934e313",
   "metadata": {},
   "source": [
    "# Split train - valid - test again"
   ]
  },
  {
   "cell_type": "code",
   "execution_count": 16,
   "id": "da691b87",
   "metadata": {},
   "outputs": [
    {
     "name": "stdout",
     "output_type": "stream",
     "text": [
      "Original train size: 0.71%\n",
      "Original valid size: 0.10%\n",
      "Original test size: 0.20%\n"
     ]
    }
   ],
   "source": [
    "# Calculate original train - valid - test split sizes\n",
    "train_size = len(df[df['dataset'] == 'train'])/len(df)\n",
    "valid_size = len(df[df['dataset'] == 'valid'])/len(df)\n",
    "test_size = len(df[df['dataset'] == 'test'])/len(df)\n",
    "\n",
    "print(f\"Original train size: {train_size:.2f}%\")\n",
    "print(f\"Original valid size: {valid_size:.2f}%\")\n",
    "print(f\"Original test size: {test_size:.2f}%\")"
   ]
  },
  {
   "cell_type": "code",
   "execution_count": 17,
   "id": "e6c1b09e",
   "metadata": {},
   "outputs": [
    {
     "name": "stdout",
     "output_type": "stream",
     "text": [
      "Number of samples in each set after resplit:\n",
      "New Train: 11322\n",
      "New Valid: 1618\n",
      "New Test: 3235\n"
     ]
    }
   ],
   "source": [
    "from sklearn.model_selection import train_test_split\n",
    "\n",
    "df_resplit = df.drop(columns=['dataset'])\n",
    "df_resplit['composite'] = df_resplit['topic'].astype(str) + '_' + df_resplit['sentiment'].astype(str)\n",
    "\n",
    "new_train, new_test = train_test_split(df_resplit, test_size=0.2, random_state=42, stratify=df_resplit['composite'])\n",
    "new_train, new_valid = train_test_split(new_train, test_size=0.125, random_state=42, stratify=new_train['composite'])\n",
    "\n",
    "print(f\"Number of samples in each set after resplit:\")\n",
    "print(f\"New Train: {len(new_train)}\")\n",
    "print(f\"New Valid: {len(new_valid)}\")\n",
    "print(f\"New Test: {len(new_test)}\")"
   ]
  },
  {
   "cell_type": "code",
   "execution_count": 18,
   "id": "43996d0c",
   "metadata": {},
   "outputs": [
    {
     "data": {
      "text/html": [
       "<div>\n",
       "<style scoped>\n",
       "    .dataframe tbody tr th:only-of-type {\n",
       "        vertical-align: middle;\n",
       "    }\n",
       "\n",
       "    .dataframe tbody tr th {\n",
       "        vertical-align: top;\n",
       "    }\n",
       "\n",
       "    .dataframe thead th {\n",
       "        text-align: right;\n",
       "    }\n",
       "</style>\n",
       "<table border=\"1\" class=\"dataframe\">\n",
       "  <thead>\n",
       "    <tr style=\"text-align: right;\">\n",
       "      <th></th>\n",
       "      <th>sentence</th>\n",
       "      <th>topic</th>\n",
       "      <th>sentiment</th>\n",
       "      <th>tokens</th>\n",
       "      <th>dataset</th>\n",
       "    </tr>\n",
       "  </thead>\n",
       "  <tbody>\n",
       "    <tr>\n",
       "      <th>0</th>\n",
       "      <td>dạy dễ hiểu , thân thiện .</td>\n",
       "      <td>0</td>\n",
       "      <td>2</td>\n",
       "      <td>[dạy, thân_thiện]</td>\n",
       "      <td>train</td>\n",
       "    </tr>\n",
       "    <tr>\n",
       "      <th>1</th>\n",
       "      <td>giáo viên thực hành cần năng động hơn , thầy c...</td>\n",
       "      <td>0</td>\n",
       "      <td>0</td>\n",
       "      <td>[giáo_viên, thực_hành, năng_động, thầy, vẻ, hơ...</td>\n",
       "      <td>train</td>\n",
       "    </tr>\n",
       "    <tr>\n",
       "      <th>2</th>\n",
       "      <td>giảng viên cần doubledot cho bài tập thêm về n...</td>\n",
       "      <td>0</td>\n",
       "      <td>0</td>\n",
       "      <td>[giảng_viên, doubledot, bài_tập, ngữ_pháp]</td>\n",
       "      <td>train</td>\n",
       "    </tr>\n",
       "    <tr>\n",
       "      <th>3</th>\n",
       "      <td>thầy dạy tốt và rất nhiệt tình .</td>\n",
       "      <td>0</td>\n",
       "      <td>2</td>\n",
       "      <td>[thầy, dạy, nhiệt_tình]</td>\n",
       "      <td>train</td>\n",
       "    </tr>\n",
       "    <tr>\n",
       "      <th>4</th>\n",
       "      <td>em rất hài lòng về phương pháp dạy này .</td>\n",
       "      <td>0</td>\n",
       "      <td>2</td>\n",
       "      <td>[hài_lòng, phương_pháp, dạy]</td>\n",
       "      <td>train</td>\n",
       "    </tr>\n",
       "  </tbody>\n",
       "</table>\n",
       "</div>"
      ],
      "text/plain": [
       "                                            sentence  topic  sentiment   \n",
       "0                         dạy dễ hiểu , thân thiện .      0          2  \\\n",
       "1  giáo viên thực hành cần năng động hơn , thầy c...      0          0   \n",
       "2  giảng viên cần doubledot cho bài tập thêm về n...      0          0   \n",
       "3                   thầy dạy tốt và rất nhiệt tình .      0          2   \n",
       "4           em rất hài lòng về phương pháp dạy này .      0          2   \n",
       "\n",
       "                                              tokens dataset  \n",
       "0                                  [dạy, thân_thiện]   train  \n",
       "1  [giáo_viên, thực_hành, năng_động, thầy, vẻ, hơ...   train  \n",
       "2         [giảng_viên, doubledot, bài_tập, ngữ_pháp]   train  \n",
       "3                            [thầy, dạy, nhiệt_tình]   train  \n",
       "4                       [hài_lòng, phương_pháp, dạy]   train  "
      ]
     },
     "execution_count": 18,
     "metadata": {},
     "output_type": "execute_result"
    }
   ],
   "source": [
    "# Concat new splits\n",
    "new_train['dataset'] = 'train'\n",
    "new_valid['dataset'] = 'valid'\n",
    "new_test['dataset'] = 'test'\n",
    "new_df = pd.concat([new_train, new_valid, new_test], ignore_index=True).drop(columns=['composite'])\n",
    "\n",
    "new_df.head()"
   ]
  },
  {
   "cell_type": "code",
   "execution_count": 21,
   "id": "840766bc",
   "metadata": {},
   "outputs": [
    {
     "data": {
      "image/png": "[encoded data removed]",
      "text/plain": [
       "<Figure size 600x600 with 1 Axes>"
      ]
     },
     "metadata": {},
     "output_type": "display_data"
    }
   ],
   "source": [
    "# Visualize the label distribution in the new train set\n",
    "\n",
    "df_top_sent = new_train.groupby(['topic', 'sentiment']).size().reset_index(name='count') \\\n",
    "    .sort_values(by=['topic', 'sentiment'])\n",
    "top_sent_mat = np.array(df_top_sent['count']).reshape(4, 3)\n",
    "\n",
    "plt.figure(figsize=(6, 6))\n",
    "sns.heatmap(top_sent_mat, annot=True, fmt='d', cmap='coolwarm', cbar=False,\n",
    "            xticklabels=['Negative', 'Neutral', 'Positive'],\n",
    "            yticklabels=['Lecturer', 'Training Program', 'Facility', 'Others'])\n",
    "plt.title(\"Count of Responses by Topic and Sentiment\")\n",
    "plt.xlabel(\"Sentiment\")\n",
    "plt.ylabel(\"Topic\")\n",
    "plt.show()\n"
   ]
  },
  {
   "cell_type": "code",
   "execution_count": 19,
   "id": "d2917f46",
   "metadata": {},
   "outputs": [],
   "source": [
    "# Save the new split to CSV\n",
    "new_df.to_csv(\"data/resplitted_data.csv\")"
   ]
  }
 ],
 "metadata": {
  "kernelspec": {
   "display_name": "Python 3",
   "language": "python",
   "name": "python3"
  },
  "language_info": {
   "codemirror_mode": {
    "name": "ipython",
    "version": 3
   },
   "file_extension": ".py",
   "mimetype": "text/x-python",
   "name": "python",
   "nbconvert_exporter": "python",
   "pygments_lexer": "ipython3",
   "version": "3.10.12"
  }
 },
 "nbformat": 4,
 "nbformat_minor": 5
}
