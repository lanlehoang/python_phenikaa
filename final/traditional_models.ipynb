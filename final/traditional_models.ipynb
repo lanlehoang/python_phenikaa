{
 "cells": [
  {
   "cell_type": "code",
   "execution_count": 14,
   "id": "9ddfe76c",
   "metadata": {},
   "outputs": [],
   "source": [
    "from sklearn.naive_bayes import GaussianNB\n",
    "from sklearn.svm import SVC\n",
    "from sklearn.ensemble import RandomForestClassifier\n",
    "from sklearn.feature_extraction.text import TfidfVectorizer\n",
    "import pandas as pd\n",
    "import ast"
   ]
  },
  {
   "cell_type": "code",
   "execution_count": null,
   "id": "dbc195e5",
   "metadata": {},
   "outputs": [],
   "source": [
    "models = {\n",
    "    'nb': GaussianNB(),\n",
    "    'svm': SVC(),\n",
    "    'rf': RandomForestClassifier()\n",
    "}"
   ]
  },
  {
   "cell_type": "code",
   "execution_count": 2,
   "id": "5a0f1cb7",
   "metadata": {},
   "outputs": [],
   "source": [
    "from collections import Counter\n",
    "\n",
    "def get_rare_tokens(df: pd.DataFrame, threshold: int=2) -> set:\n",
    "    all_sentences = df['tokens'].tolist()\n",
    "    all_tokens = [token for sentence in all_sentences for token in sentence]\n",
    "    token_counts = Counter(all_tokens)\n",
    "    rare_tokens = {token for token, count in token_counts.items() if count < threshold}\n",
    "    return rare_tokens"
   ]
  },
  {
   "cell_type": "markdown",
   "id": "78b328c6",
   "metadata": {},
   "source": [
    "# Predict on the original splits"
   ]
  },
  {
   "cell_type": "code",
   "execution_count": 3,
   "id": "363b923b",
   "metadata": {},
   "outputs": [
    {
     "data": {
      "text/html": [
       "<div>\n",
       "<style scoped>\n",
       "    .dataframe tbody tr th:only-of-type {\n",
       "        vertical-align: middle;\n",
       "    }\n",
       "\n",
       "    .dataframe tbody tr th {\n",
       "        vertical-align: top;\n",
       "    }\n",
       "\n",
       "    .dataframe thead th {\n",
       "        text-align: right;\n",
       "    }\n",
       "</style>\n",
       "<table border=\"1\" class=\"dataframe\">\n",
       "  <thead>\n",
       "    <tr style=\"text-align: right;\">\n",
       "      <th></th>\n",
       "      <th>sentence</th>\n",
       "      <th>topic</th>\n",
       "      <th>sentiment</th>\n",
       "      <th>dataset</th>\n",
       "      <th>tokens</th>\n",
       "    </tr>\n",
       "  </thead>\n",
       "  <tbody>\n",
       "    <tr>\n",
       "      <th>0</th>\n",
       "      <td>slide giáo trình đầy đủ .</td>\n",
       "      <td>1</td>\n",
       "      <td>2</td>\n",
       "      <td>train</td>\n",
       "      <td>[slide, giáo_trình, đầy_đủ]</td>\n",
       "    </tr>\n",
       "    <tr>\n",
       "      <th>1</th>\n",
       "      <td>nhiệt tình giảng dạy , gần gũi với sinh viên .</td>\n",
       "      <td>0</td>\n",
       "      <td>2</td>\n",
       "      <td>train</td>\n",
       "      <td>[nhiệt_tình, giảng_dạy, gần_gũi, sinh_viên]</td>\n",
       "    </tr>\n",
       "    <tr>\n",
       "      <th>2</th>\n",
       "      <td>đi học đầy đủ full điểm chuyên cần .</td>\n",
       "      <td>1</td>\n",
       "      <td>0</td>\n",
       "      <td>train</td>\n",
       "      <td>[đi, học, đầy_đủ, full, chuyên_cần]</td>\n",
       "    </tr>\n",
       "    <tr>\n",
       "      <th>3</th>\n",
       "      <td>chưa áp dụng công nghệ thông tin và các thiết ...</td>\n",
       "      <td>0</td>\n",
       "      <td>0</td>\n",
       "      <td>train</td>\n",
       "      <td>[áp_dụng, công_nghệ, thông_tin, thiết_bị, giản...</td>\n",
       "    </tr>\n",
       "    <tr>\n",
       "      <th>4</th>\n",
       "      <td>thầy giảng bài hay , có nhiều bài tập ví dụ ng...</td>\n",
       "      <td>0</td>\n",
       "      <td>2</td>\n",
       "      <td>train</td>\n",
       "      <td>[thầy, giảng, bài_tập, ví_dụ, lớp]</td>\n",
       "    </tr>\n",
       "  </tbody>\n",
       "</table>\n",
       "</div>"
      ],
      "text/plain": [
       "                                            sentence  topic  sentiment  \\\n",
       "0                          slide giáo trình đầy đủ .      1          2   \n",
       "1     nhiệt tình giảng dạy , gần gũi với sinh viên .      0          2   \n",
       "2               đi học đầy đủ full điểm chuyên cần .      1          0   \n",
       "3  chưa áp dụng công nghệ thông tin và các thiết ...      0          0   \n",
       "4  thầy giảng bài hay , có nhiều bài tập ví dụ ng...      0          2   \n",
       "\n",
       "  dataset                                             tokens  \n",
       "0   train                        [slide, giáo_trình, đầy_đủ]  \n",
       "1   train        [nhiệt_tình, giảng_dạy, gần_gũi, sinh_viên]  \n",
       "2   train                [đi, học, đầy_đủ, full, chuyên_cần]  \n",
       "3   train  [áp_dụng, công_nghệ, thông_tin, thiết_bị, giản...  \n",
       "4   train                 [thầy, giảng, bài_tập, ví_dụ, lớp]  "
      ]
     },
     "execution_count": 3,
     "metadata": {},
     "output_type": "execute_result"
    }
   ],
   "source": [
    "df = pd.read_csv(\"data/preprocessed_data.csv\")\n",
    "df['tokens'] = df['tokens'].apply(ast.literal_eval)\n",
    "\n",
    "df_train = df[df['dataset'] == 'train']\n",
    "df_train.head()"
   ]
  },
  {
   "cell_type": "code",
   "execution_count": 4,
   "id": "f0751a7f",
   "metadata": {},
   "outputs": [
    {
     "name": "stdout",
     "output_type": "stream",
     "text": [
      "The number of rare tokens is: 1623\n",
      "Some rare tokens are: ['đế', 'gắn_bó', 'bơi', 'ngày_nay', 'thời_gian_biểu']\n"
     ]
    }
   ],
   "source": [
    "rare_tokens = get_rare_tokens(df_train, 2)\n",
    "\n",
    "print(f\"The number of rare tokens is: {len(rare_tokens)}\")\n",
    "print(f\"Some rare tokens are: {list(rare_tokens)[:5]}\")"
   ]
  },
  {
   "cell_type": "code",
   "execution_count": 5,
   "id": "f2260a80",
   "metadata": {},
   "outputs": [
    {
     "data": {
      "text/html": [
       "<div>\n",
       "<style scoped>\n",
       "    .dataframe tbody tr th:only-of-type {\n",
       "        vertical-align: middle;\n",
       "    }\n",
       "\n",
       "    .dataframe tbody tr th {\n",
       "        vertical-align: top;\n",
       "    }\n",
       "\n",
       "    .dataframe thead th {\n",
       "        text-align: right;\n",
       "    }\n",
       "</style>\n",
       "<table border=\"1\" class=\"dataframe\">\n",
       "  <thead>\n",
       "    <tr style=\"text-align: right;\">\n",
       "      <th></th>\n",
       "      <th>sentence</th>\n",
       "      <th>topic</th>\n",
       "      <th>sentiment</th>\n",
       "      <th>dataset</th>\n",
       "      <th>tokens</th>\n",
       "      <th>popular</th>\n",
       "    </tr>\n",
       "  </thead>\n",
       "  <tbody>\n",
       "    <tr>\n",
       "      <th>0</th>\n",
       "      <td>slide giáo trình đầy đủ .</td>\n",
       "      <td>1</td>\n",
       "      <td>2</td>\n",
       "      <td>train</td>\n",
       "      <td>[slide, giáo_trình, đầy_đủ]</td>\n",
       "      <td>[slide, giáo_trình, đầy_đủ]</td>\n",
       "    </tr>\n",
       "    <tr>\n",
       "      <th>1</th>\n",
       "      <td>nhiệt tình giảng dạy , gần gũi với sinh viên .</td>\n",
       "      <td>0</td>\n",
       "      <td>2</td>\n",
       "      <td>train</td>\n",
       "      <td>[nhiệt_tình, giảng_dạy, gần_gũi, sinh_viên]</td>\n",
       "      <td>[nhiệt_tình, giảng_dạy, gần_gũi, sinh_viên]</td>\n",
       "    </tr>\n",
       "    <tr>\n",
       "      <th>2</th>\n",
       "      <td>đi học đầy đủ full điểm chuyên cần .</td>\n",
       "      <td>1</td>\n",
       "      <td>0</td>\n",
       "      <td>train</td>\n",
       "      <td>[đi, học, đầy_đủ, full, chuyên_cần]</td>\n",
       "      <td>[đi, học, đầy_đủ, chuyên_cần]</td>\n",
       "    </tr>\n",
       "    <tr>\n",
       "      <th>3</th>\n",
       "      <td>chưa áp dụng công nghệ thông tin và các thiết ...</td>\n",
       "      <td>0</td>\n",
       "      <td>0</td>\n",
       "      <td>train</td>\n",
       "      <td>[áp_dụng, công_nghệ, thông_tin, thiết_bị, giản...</td>\n",
       "      <td>[áp_dụng, công_nghệ, thông_tin, thiết_bị, giản...</td>\n",
       "    </tr>\n",
       "    <tr>\n",
       "      <th>4</th>\n",
       "      <td>thầy giảng bài hay , có nhiều bài tập ví dụ ng...</td>\n",
       "      <td>0</td>\n",
       "      <td>2</td>\n",
       "      <td>train</td>\n",
       "      <td>[thầy, giảng, bài_tập, ví_dụ, lớp]</td>\n",
       "      <td>[thầy, giảng, bài_tập, ví_dụ, lớp]</td>\n",
       "    </tr>\n",
       "  </tbody>\n",
       "</table>\n",
       "</div>"
      ],
      "text/plain": [
       "                                            sentence  topic  sentiment  \\\n",
       "0                          slide giáo trình đầy đủ .      1          2   \n",
       "1     nhiệt tình giảng dạy , gần gũi với sinh viên .      0          2   \n",
       "2               đi học đầy đủ full điểm chuyên cần .      1          0   \n",
       "3  chưa áp dụng công nghệ thông tin và các thiết ...      0          0   \n",
       "4  thầy giảng bài hay , có nhiều bài tập ví dụ ng...      0          2   \n",
       "\n",
       "  dataset                                             tokens  \\\n",
       "0   train                        [slide, giáo_trình, đầy_đủ]   \n",
       "1   train        [nhiệt_tình, giảng_dạy, gần_gũi, sinh_viên]   \n",
       "2   train                [đi, học, đầy_đủ, full, chuyên_cần]   \n",
       "3   train  [áp_dụng, công_nghệ, thông_tin, thiết_bị, giản...   \n",
       "4   train                 [thầy, giảng, bài_tập, ví_dụ, lớp]   \n",
       "\n",
       "                                             popular  \n",
       "0                        [slide, giáo_trình, đầy_đủ]  \n",
       "1        [nhiệt_tình, giảng_dạy, gần_gũi, sinh_viên]  \n",
       "2                      [đi, học, đầy_đủ, chuyên_cần]  \n",
       "3  [áp_dụng, công_nghệ, thông_tin, thiết_bị, giản...  \n",
       "4                 [thầy, giảng, bài_tập, ví_dụ, lớp]  "
      ]
     },
     "execution_count": 5,
     "metadata": {},
     "output_type": "execute_result"
    }
   ],
   "source": [
    "df['popular'] = df['tokens'].apply(lambda x: [token for token in x if token not in rare_tokens])\n",
    "df.head()"
   ]
  },
  {
   "cell_type": "code",
   "execution_count": 6,
   "id": "f853d368",
   "metadata": {},
   "outputs": [],
   "source": [
    "select_cols = ['popular', 'topic', 'sentiment']\n",
    "\n",
    "df_train = df[df['dataset'] == 'train'][select_cols]\n",
    "df_valid = df[df['dataset'] == 'valid'][select_cols]\n",
    "df_test = df[df['dataset'] == 'test'][select_cols]"
   ]
  },
  {
   "cell_type": "code",
   "execution_count": 8,
   "id": "3fe403bc",
   "metadata": {},
   "outputs": [],
   "source": [
    "train_sentences = [\" \".join(sent) for sent in df_train['popular']]\n",
    "valid_sentences = [\" \".join(sent) for sent in df_valid['popular']]\n",
    "test_sentences = [\" \".join(sent) for sent in df_test['popular']]"
   ]
  },
  {
   "cell_type": "code",
   "execution_count": 9,
   "id": "4ac9de0b",
   "metadata": {},
   "outputs": [],
   "source": [
    "vectorizer = TfidfVectorizer()\n",
    "\n",
    "X_train = vectorizer.fit_transform(train_sentences)\n",
    "X_valid = vectorizer.transform(valid_sentences)\n",
    "X_test = vectorizer.transform(test_sentences)"
   ]
  },
  {
   "cell_type": "markdown",
   "id": "f0a413ec",
   "metadata": {},
   "source": [
    "## Predict topics"
   ]
  },
  {
   "cell_type": "code",
   "execution_count": 16,
   "id": "05040322",
   "metadata": {},
   "outputs": [],
   "source": [
    "y_train = df_train['topic']\n",
    "y_valid = df_valid['topic']\n",
    "y_test = df_test['topic']"
   ]
  },
  {
   "cell_type": "code",
   "execution_count": null,
   "id": "72ad5f55",
   "metadata": {},
   "outputs": [],
   "source": []
  }
 ],
 "metadata": {
  "kernelspec": {
   "display_name": "shared_env",
   "language": "python",
   "name": "python3"
  },
  "language_info": {
   "codemirror_mode": {
    "name": "ipython",
    "version": 3
   },
   "file_extension": ".py",
   "mimetype": "text/x-python",
   "name": "python",
   "nbconvert_exporter": "python",
   "pygments_lexer": "ipython3",
   "version": "3.11.11"
  }
 },
 "nbformat": 4,
 "nbformat_minor": 5
}
