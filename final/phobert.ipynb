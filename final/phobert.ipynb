{
 "cells": [
  {
   "cell_type": "code",
   "execution_count": 1,
   "metadata": {
    "_cell_guid": "b1076dfc-b9ad-4769-8c92-a6c4dae69d19",
    "_uuid": "8f2839f25d086af736a60e9eeb907d3b93b6e0e5",
    "execution": {
     "iopub.execute_input": "2025-06-14T04:21:15.915572Z",
     "iopub.status.busy": "2025-06-14T04:21:15.914862Z",
     "iopub.status.idle": "2025-06-14T04:21:16.220166Z",
     "shell.execute_reply": "2025-06-14T04:21:16.219500Z",
     "shell.execute_reply.started": "2025-06-14T04:21:15.915547Z"
    },
    "trusted": true
   },
   "outputs": [
    {
     "name": "stdout",
     "output_type": "stream",
     "text": [
      "/kaggle/input/processed-student-feedbacks/preprocessed_data.csv\n"
     ]
    }
   ],
   "source": [
    "# This Python 3 environment comes with many helpful analytics libraries installed\n",
    "# It is defined by the kaggle/python Docker image: https://github.com/kaggle/docker-python\n",
    "# For example, here's several helpful packages to load\n",
    "\n",
    "import numpy as np # linear algebra\n",
    "import pandas as pd # data processing, CSV file I/O (e.g. pd.read_csv)\n",
    "\n",
    "# Input data files are available in the read-only \"../input/\" directory\n",
    "# For example, running this (by clicking run or pressing Shift+Enter) will list all files under the input directory\n",
    "\n",
    "import os\n",
    "for dirname, _, filenames in os.walk('/kaggle/input'):\n",
    "    for filename in filenames:\n",
    "        print(os.path.join(dirname, filename))\n",
    "\n",
    "# You can write up to 20GB to the current directory (/kaggle/working/) that gets preserved as output when you create a version using \"Save & Run All\" \n",
    "# You can also write temporary files to /kaggle/temp/, but they won't be saved outside of the current session"
   ]
  },
  {
   "cell_type": "code",
   "execution_count": null,
   "metadata": {
    "_kg_hide-input": false,
    "_kg_hide-output": true,
    "execution": {
     "iopub.execute_input": "2025-06-14T04:21:26.111926Z",
     "iopub.status.busy": "2025-06-14T04:21:26.111552Z",
     "iopub.status.idle": "2025-06-14T04:21:32.076845Z",
     "shell.execute_reply": "2025-06-14T04:21:32.076068Z",
     "shell.execute_reply.started": "2025-06-14T04:21:26.111903Z"
    },
    "trusted": true
   },
   "outputs": [],
   "source": [
    "# Use PhoBert word segmentation\n",
    "!pip install py_vncorenlp"
   ]
  },
  {
   "cell_type": "code",
   "execution_count": null,
   "metadata": {
    "execution": {
     "iopub.execute_input": "2025-06-14T04:21:32.078785Z",
     "iopub.status.busy": "2025-06-14T04:21:32.078528Z",
     "iopub.status.idle": "2025-06-14T04:21:36.772985Z",
     "shell.execute_reply": "2025-06-14T04:21:36.772146Z",
     "shell.execute_reply.started": "2025-06-14T04:21:32.078759Z"
    },
    "trusted": true
   },
   "outputs": [],
   "source": [
    "import py_vncorenlp\n",
    "\n",
    "vncorenlp_path = \"/kaggle/temp/vncorenlp\"\n",
    "os.makedirs(vncorenlp_path, exist_ok=True)\n",
    "\n",
    "# Automatically download VnCoreNLP components from the original repository\n",
    "# and save them in some local machine folder\n",
    "py_vncorenlp.download_model(save_dir=vncorenlp_path)\n",
    "\n",
    "# Load the word and sentence segmentation component\n",
    "rdrsegmenter = py_vncorenlp.VnCoreNLP(annotators=[\"wseg\"], save_dir=vncorenlp_path)"
   ]
  },
  {
   "cell_type": "code",
   "execution_count": 4,
   "metadata": {
    "execution": {
     "iopub.execute_input": "2025-06-14T04:21:36.776578Z",
     "iopub.status.busy": "2025-06-14T04:21:36.775952Z",
     "iopub.status.idle": "2025-06-14T04:21:37.077510Z",
     "shell.execute_reply": "2025-06-14T04:21:37.076703Z",
     "shell.execute_reply.started": "2025-06-14T04:21:36.776519Z"
    },
    "trusted": true
   },
   "outputs": [
    {
     "name": "stdout",
     "output_type": "stream",
     "text": [
      "['Ông Nguyễn_Khắc_Chúc đang làm_việc tại Đại_học Quốc_gia Hà_Nội .', 'Bà Lan , vợ ông Chúc , cũng làm_việc tại đây .']\n"
     ]
    }
   ],
   "source": [
    "text = \"Ông Nguyễn Khắc Chúc  đang làm việc tại Đại học Quốc gia Hà Nội. Bà Lan, vợ ông Chúc, cũng làm việc tại đây.\"\n",
    "\n",
    "output = rdrsegmenter.word_segment(text)\n",
    "\n",
    "print(output)"
   ]
  },
  {
   "cell_type": "markdown",
   "metadata": {},
   "source": [
    "# Load data"
   ]
  },
  {
   "cell_type": "code",
   "execution_count": 5,
   "metadata": {
    "execution": {
     "iopub.execute_input": "2025-06-14T04:21:37.079569Z",
     "iopub.status.busy": "2025-06-14T04:21:37.079312Z",
     "iopub.status.idle": "2025-06-14T04:21:42.969714Z",
     "shell.execute_reply": "2025-06-14T04:21:42.968820Z",
     "shell.execute_reply.started": "2025-06-14T04:21:37.079537Z"
    },
    "trusted": true
   },
   "outputs": [
    {
     "data": {
      "text/html": [
       "<div>\n",
       "<style scoped>\n",
       "    .dataframe tbody tr th:only-of-type {\n",
       "        vertical-align: middle;\n",
       "    }\n",
       "\n",
       "    .dataframe tbody tr th {\n",
       "        vertical-align: top;\n",
       "    }\n",
       "\n",
       "    .dataframe thead th {\n",
       "        text-align: right;\n",
       "    }\n",
       "</style>\n",
       "<table border=\"1\" class=\"dataframe\">\n",
       "  <thead>\n",
       "    <tr style=\"text-align: right;\">\n",
       "      <th></th>\n",
       "      <th>sentence</th>\n",
       "      <th>topic</th>\n",
       "      <th>sentiment</th>\n",
       "      <th>dataset</th>\n",
       "      <th>segmented_text</th>\n",
       "    </tr>\n",
       "  </thead>\n",
       "  <tbody>\n",
       "    <tr>\n",
       "      <th>0</th>\n",
       "      <td>slide giáo trình đầy đủ .</td>\n",
       "      <td>1</td>\n",
       "      <td>2</td>\n",
       "      <td>train</td>\n",
       "      <td>slide giáo_trình đầy_đủ .</td>\n",
       "    </tr>\n",
       "    <tr>\n",
       "      <th>1</th>\n",
       "      <td>nhiệt tình giảng dạy , gần gũi với sinh viên .</td>\n",
       "      <td>0</td>\n",
       "      <td>2</td>\n",
       "      <td>train</td>\n",
       "      <td>nhiệt_tình giảng_dạy , gần_gũi với sinh_viên .</td>\n",
       "    </tr>\n",
       "    <tr>\n",
       "      <th>2</th>\n",
       "      <td>đi học đầy đủ full điểm chuyên cần .</td>\n",
       "      <td>1</td>\n",
       "      <td>0</td>\n",
       "      <td>train</td>\n",
       "      <td>đi học đầy_đủ full điểm chuyên_cần .</td>\n",
       "    </tr>\n",
       "    <tr>\n",
       "      <th>3</th>\n",
       "      <td>chưa áp dụng công nghệ thông tin và các thiết ...</td>\n",
       "      <td>0</td>\n",
       "      <td>0</td>\n",
       "      <td>train</td>\n",
       "      <td>chưa áp_dụng công_nghệ_thông_tin và các thiết_...</td>\n",
       "    </tr>\n",
       "    <tr>\n",
       "      <th>4</th>\n",
       "      <td>thầy giảng bài hay , có nhiều bài tập ví dụ ng...</td>\n",
       "      <td>0</td>\n",
       "      <td>2</td>\n",
       "      <td>train</td>\n",
       "      <td>thầy giảng bài hay , có nhiều bài_tập ví_dụ ng...</td>\n",
       "    </tr>\n",
       "  </tbody>\n",
       "</table>\n",
       "</div>"
      ],
      "text/plain": [
       "                                            sentence  topic  sentiment  \\\n",
       "0                          slide giáo trình đầy đủ .      1          2   \n",
       "1     nhiệt tình giảng dạy , gần gũi với sinh viên .      0          2   \n",
       "2               đi học đầy đủ full điểm chuyên cần .      1          0   \n",
       "3  chưa áp dụng công nghệ thông tin và các thiết ...      0          0   \n",
       "4  thầy giảng bài hay , có nhiều bài tập ví dụ ng...      0          2   \n",
       "\n",
       "  dataset                                     segmented_text  \n",
       "0   train                          slide giáo_trình đầy_đủ .  \n",
       "1   train     nhiệt_tình giảng_dạy , gần_gũi với sinh_viên .  \n",
       "2   train               đi học đầy_đủ full điểm chuyên_cần .  \n",
       "3   train  chưa áp_dụng công_nghệ_thông_tin và các thiết_...  \n",
       "4   train  thầy giảng bài hay , có nhiều bài_tập ví_dụ ng...  "
      ]
     },
     "execution_count": 5,
     "metadata": {},
     "output_type": "execute_result"
    }
   ],
   "source": [
    "df = pd.read_csv('/kaggle/input/processed-student-feedbacks/preprocessed_data.csv').drop(columns=['tokens'])\n",
    "df['segmented_text'] = df['sentence'].apply(lambda x: rdrsegmenter.word_segment(x)[0])\n",
    "\n",
    "df.head()"
   ]
  },
  {
   "cell_type": "code",
   "execution_count": 6,
   "metadata": {
    "execution": {
     "iopub.execute_input": "2025-06-14T04:21:42.970875Z",
     "iopub.status.busy": "2025-06-14T04:21:42.970566Z",
     "iopub.status.idle": "2025-06-14T04:21:42.987397Z",
     "shell.execute_reply": "2025-06-14T04:21:42.986532Z",
     "shell.execute_reply.started": "2025-06-14T04:21:42.970817Z"
    },
    "trusted": true
   },
   "outputs": [],
   "source": [
    "# Split by the `dataset` column\n",
    "df_train = df[df['dataset'] == 'train'].reset_index(drop=True).drop(columns=['sentence', 'dataset'])\n",
    "df_valid = df[df['dataset'] == 'valid'].reset_index(drop=True).drop(columns=['sentence', 'dataset'])\n",
    "df_test  = df[df['dataset'] == 'test'].reset_index(drop=True).drop(columns=['sentence', 'dataset'])"
   ]
  },
  {
   "cell_type": "code",
   "execution_count": 7,
   "metadata": {
    "execution": {
     "iopub.execute_input": "2025-06-14T04:21:42.988403Z",
     "iopub.status.busy": "2025-06-14T04:21:42.988160Z",
     "iopub.status.idle": "2025-06-14T04:21:44.432916Z",
     "shell.execute_reply": "2025-06-14T04:21:44.432177Z",
     "shell.execute_reply.started": "2025-06-14T04:21:42.988379Z"
    },
    "trusted": true
   },
   "outputs": [],
   "source": [
    "from datasets import Dataset, DatasetDict\n",
    "\n",
    "ds_train = Dataset.from_pandas(df_train)\n",
    "ds_valid = Dataset.from_pandas(df_valid)\n",
    "ds_test = Dataset.from_pandas(df_test)\n",
    "\n",
    "dataset = DatasetDict({\n",
    "    'train': ds_train,\n",
    "    'validation': ds_valid,\n",
    "    'test': ds_test\n",
    "})"
   ]
  },
  {
   "cell_type": "code",
   "execution_count": 8,
   "metadata": {
    "execution": {
     "iopub.execute_input": "2025-06-14T04:21:44.434025Z",
     "iopub.status.busy": "2025-06-14T04:21:44.433697Z",
     "iopub.status.idle": "2025-06-14T04:21:44.446778Z",
     "shell.execute_reply": "2025-06-14T04:21:44.445848Z",
     "shell.execute_reply.started": "2025-06-14T04:21:44.434005Z"
    },
    "trusted": true
   },
   "outputs": [
    {
     "name": "stdout",
     "output_type": "stream",
     "text": [
      "DatasetDict({\n",
      "    train: Dataset({\n",
      "        features: ['topic', 'sentiment', 'segmented_text'],\n",
      "        num_rows: 11426\n",
      "    })\n",
      "    validation: Dataset({\n",
      "        features: ['topic', 'sentiment', 'segmented_text'],\n",
      "        num_rows: 1583\n",
      "    })\n",
      "    test: Dataset({\n",
      "        features: ['topic', 'sentiment', 'segmented_text'],\n",
      "        num_rows: 3166\n",
      "    })\n",
      "})\n",
      "{'topic': 1, 'sentiment': 2, 'segmented_text': 'slide giáo_trình đầy_đủ .'}\n"
     ]
    }
   ],
   "source": [
    "print(dataset)\n",
    "print(dataset['train'][0])"
   ]
  },
  {
   "cell_type": "markdown",
   "metadata": {},
   "source": [
    "# Load models"
   ]
  },
  {
   "cell_type": "code",
   "execution_count": 9,
   "metadata": {
    "execution": {
     "iopub.execute_input": "2025-06-14T04:21:44.449212Z",
     "iopub.status.busy": "2025-06-14T04:21:44.448922Z",
     "iopub.status.idle": "2025-06-14T04:21:48.326982Z",
     "shell.execute_reply": "2025-06-14T04:21:48.326362Z",
     "shell.execute_reply.started": "2025-06-14T04:21:44.449189Z"
    },
    "trusted": true
   },
   "outputs": [
    {
     "data": {
      "text/plain": [
       "'cuda'"
      ]
     },
     "execution_count": 9,
     "metadata": {},
     "output_type": "execute_result"
    }
   ],
   "source": [
    "import torch\n",
    "\n",
    "device = \"cuda\" if torch.cuda.is_available() else \"cpu\"\n",
    "device"
   ]
  },
  {
   "cell_type": "code",
   "execution_count": null,
   "metadata": {
    "execution": {
     "iopub.execute_input": "2025-06-14T04:21:48.327863Z",
     "iopub.status.busy": "2025-06-14T04:21:48.327681Z",
     "iopub.status.idle": "2025-06-14T04:21:56.481112Z",
     "shell.execute_reply": "2025-06-14T04:21:56.480533Z",
     "shell.execute_reply.started": "2025-06-14T04:21:48.327849Z"
    },
    "trusted": true
   },
   "outputs": [],
   "source": [
    "from transformers import AutoTokenizer, AutoModelForSequenceClassification\n",
    "\n",
    "MODEL_NAME = \"vinai/phobert-base-v2\"\n",
    "tokenizer = AutoTokenizer.from_pretrained(MODEL_NAME)"
   ]
  },
  {
   "cell_type": "code",
   "execution_count": 11,
   "metadata": {
    "execution": {
     "iopub.execute_input": "2025-06-14T04:21:56.482330Z",
     "iopub.status.busy": "2025-06-14T04:21:56.481863Z",
     "iopub.status.idle": "2025-06-14T04:21:56.486736Z",
     "shell.execute_reply": "2025-06-14T04:21:56.485609Z",
     "shell.execute_reply.started": "2025-06-14T04:21:56.482309Z"
    },
    "trusted": true
   },
   "outputs": [],
   "source": [
    "# Tokenize text\n",
    "def tokenize(row):\n",
    "    return tokenizer(\n",
    "        row['segmented_text'],\n",
    "        padding='max_length',\n",
    "        truncation=True,\n",
    "        max_length=128\n",
    "    )"
   ]
  },
  {
   "cell_type": "code",
   "execution_count": 12,
   "metadata": {
    "execution": {
     "iopub.execute_input": "2025-06-14T04:22:05.464398Z",
     "iopub.status.busy": "2025-06-14T04:22:05.464095Z",
     "iopub.status.idle": "2025-06-14T04:22:05.469186Z",
     "shell.execute_reply": "2025-06-14T04:22:05.468363Z",
     "shell.execute_reply.started": "2025-06-14T04:22:05.464372Z"
    },
    "trusted": true
   },
   "outputs": [],
   "source": [
    "from sklearn.metrics import accuracy_score, precision_recall_fscore_support\n",
    "\n",
    "def compute_metrics(eval_pred):\n",
    "    logits, labels = eval_pred\n",
    "    preds = logits.argmax(axis=-1)\n",
    "\n",
    "    precision, recall, f1, _ = precision_recall_fscore_support(labels, preds, average=\"macro\")\n",
    "    acc = accuracy_score(labels, preds)\n",
    "\n",
    "    return {\n",
    "        \"accuracy\": acc,\n",
    "        \"precision\": precision,\n",
    "        \"recall\": recall,\n",
    "        \"f1\": f1\n",
    "    }"
   ]
  },
  {
   "cell_type": "markdown",
   "metadata": {},
   "source": [
    "## Train on topic classification"
   ]
  },
  {
   "cell_type": "code",
   "execution_count": 12,
   "metadata": {
    "execution": {
     "iopub.execute_input": "2025-06-14T03:39:13.067009Z",
     "iopub.status.busy": "2025-06-14T03:39:13.066677Z",
     "iopub.status.idle": "2025-06-14T03:39:19.268008Z",
     "shell.execute_reply": "2025-06-14T03:39:19.267393Z",
     "shell.execute_reply.started": "2025-06-14T03:39:13.066966Z"
    },
    "trusted": true
   },
   "outputs": [
    {
     "data": {
      "application/vnd.jupyter.widget-view+json": {
       "model_id": "9ca5a6ac40d84d1ebcc8d63418bfe90f",
       "version_major": 2,
       "version_minor": 0
      },
      "text/plain": [
       "Map:   0%|          | 0/11426 [00:00<?, ? examples/s]"
      ]
     },
     "metadata": {},
     "output_type": "display_data"
    },
    {
     "data": {
      "application/vnd.jupyter.widget-view+json": {
       "model_id": "10fe519594ea4d2d85f72b34a0129af7",
       "version_major": 2,
       "version_minor": 0
      },
      "text/plain": [
       "Map:   0%|          | 0/1583 [00:00<?, ? examples/s]"
      ]
     },
     "metadata": {},
     "output_type": "display_data"
    },
    {
     "data": {
      "application/vnd.jupyter.widget-view+json": {
       "model_id": "85b61f0da95b47d499fb6856af922000",
       "version_major": 2,
       "version_minor": 0
      },
      "text/plain": [
       "Map:   0%|          | 0/3166 [00:00<?, ? examples/s]"
      ]
     },
     "metadata": {},
     "output_type": "display_data"
    },
    {
     "name": "stdout",
     "output_type": "stream",
     "text": [
      "{'labels': 1, 'input_ids': [0, 48090, 12301, 997, 5, 2, 1, 1, 1, 1, 1, 1, 1, 1, 1, 1, 1, 1, 1, 1, 1, 1, 1, 1, 1, 1, 1, 1, 1, 1, 1, 1, 1, 1, 1, 1, 1, 1, 1, 1, 1, 1, 1, 1, 1, 1, 1, 1, 1, 1, 1, 1, 1, 1, 1, 1, 1, 1, 1, 1, 1, 1, 1, 1, 1, 1, 1, 1, 1, 1, 1, 1, 1, 1, 1, 1, 1, 1, 1, 1, 1, 1, 1, 1, 1, 1, 1, 1, 1, 1, 1, 1, 1, 1, 1, 1, 1, 1, 1, 1, 1, 1, 1, 1, 1, 1, 1, 1, 1, 1, 1, 1, 1, 1, 1, 1, 1, 1, 1, 1, 1, 1, 1, 1, 1, 1, 1, 1], 'token_type_ids': [0, 0, 0, 0, 0, 0, 0, 0, 0, 0, 0, 0, 0, 0, 0, 0, 0, 0, 0, 0, 0, 0, 0, 0, 0, 0, 0, 0, 0, 0, 0, 0, 0, 0, 0, 0, 0, 0, 0, 0, 0, 0, 0, 0, 0, 0, 0, 0, 0, 0, 0, 0, 0, 0, 0, 0, 0, 0, 0, 0, 0, 0, 0, 0, 0, 0, 0, 0, 0, 0, 0, 0, 0, 0, 0, 0, 0, 0, 0, 0, 0, 0, 0, 0, 0, 0, 0, 0, 0, 0, 0, 0, 0, 0, 0, 0, 0, 0, 0, 0, 0, 0, 0, 0, 0, 0, 0, 0, 0, 0, 0, 0, 0, 0, 0, 0, 0, 0, 0, 0, 0, 0, 0, 0, 0, 0, 0, 0], 'attention_mask': [1, 1, 1, 1, 1, 1, 0, 0, 0, 0, 0, 0, 0, 0, 0, 0, 0, 0, 0, 0, 0, 0, 0, 0, 0, 0, 0, 0, 0, 0, 0, 0, 0, 0, 0, 0, 0, 0, 0, 0, 0, 0, 0, 0, 0, 0, 0, 0, 0, 0, 0, 0, 0, 0, 0, 0, 0, 0, 0, 0, 0, 0, 0, 0, 0, 0, 0, 0, 0, 0, 0, 0, 0, 0, 0, 0, 0, 0, 0, 0, 0, 0, 0, 0, 0, 0, 0, 0, 0, 0, 0, 0, 0, 0, 0, 0, 0, 0, 0, 0, 0, 0, 0, 0, 0, 0, 0, 0, 0, 0, 0, 0, 0, 0, 0, 0, 0, 0, 0, 0, 0, 0, 0, 0, 0, 0, 0, 0]}\n"
     ]
    }
   ],
   "source": [
    "tokenized_dataset = dataset.map(tokenize, batched=True) \\\n",
    "    .rename_columns({'topic': 'labels'}) \\\n",
    "    .remove_columns([\"sentiment\", \"segmented_text\"])\n",
    "print(tokenized_dataset[\"train\"][0])"
   ]
  },
  {
   "cell_type": "code",
   "execution_count": 13,
   "metadata": {
    "execution": {
     "iopub.execute_input": "2025-06-14T03:39:19.269007Z",
     "iopub.status.busy": "2025-06-14T03:39:19.268737Z",
     "iopub.status.idle": "2025-06-14T03:39:19.274358Z",
     "shell.execute_reply": "2025-06-14T03:39:19.273575Z",
     "shell.execute_reply.started": "2025-06-14T03:39:19.268973Z"
    },
    "trusted": true
   },
   "outputs": [],
   "source": [
    "tokenized_dataset.set_format(\"torch\", columns=[\"input_ids\", \"attention_mask\", \"labels\"])"
   ]
  },
  {
   "cell_type": "code",
   "execution_count": 14,
   "metadata": {
    "execution": {
     "iopub.execute_input": "2025-06-14T03:39:19.275256Z",
     "iopub.status.busy": "2025-06-14T03:39:19.275000Z",
     "iopub.status.idle": "2025-06-14T03:39:25.151452Z",
     "shell.execute_reply": "2025-06-14T03:39:25.150710Z",
     "shell.execute_reply.started": "2025-06-14T03:39:19.275229Z"
    },
    "trusted": true
   },
   "outputs": [
    {
     "name": "stderr",
     "output_type": "stream",
     "text": [
      "2025-06-14 03:39:20.497161: E external/local_xla/xla/stream_executor/cuda/cuda_fft.cc:477] Unable to register cuFFT factory: Attempting to register factory for plugin cuFFT when one has already been registered\n",
      "WARNING: All log messages before absl::InitializeLog() is called are written to STDERR\n",
      "E0000 00:00:1749872360.520949     214 cuda_dnn.cc:8310] Unable to register cuDNN factory: Attempting to register factory for plugin cuDNN when one has already been registered\n",
      "E0000 00:00:1749872360.528708     214 cuda_blas.cc:1418] Unable to register cuBLAS factory: Attempting to register factory for plugin cuBLAS when one has already been registered\n",
      "Some weights of RobertaForSequenceClassification were not initialized from the model checkpoint at vinai/phobert-base-v2 and are newly initialized: ['classifier.dense.bias', 'classifier.dense.weight', 'classifier.out_proj.bias', 'classifier.out_proj.weight']\n",
      "You should probably TRAIN this model on a down-stream task to be able to use it for predictions and inference.\n"
     ]
    },
    {
     "name": "stdout",
     "output_type": "stream",
     "text": [
      "RobertaConfig {\n",
      "  \"_attn_implementation_autoset\": true,\n",
      "  \"architectures\": [\n",
      "    \"RobertaForMaskedLM\"\n",
      "  ],\n",
      "  \"attention_probs_dropout_prob\": 0.1,\n",
      "  \"bos_token_id\": 0,\n",
      "  \"classifier_dropout\": null,\n",
      "  \"eos_token_id\": 2,\n",
      "  \"hidden_act\": \"gelu\",\n",
      "  \"hidden_dropout_prob\": 0.1,\n",
      "  \"hidden_size\": 768,\n",
      "  \"id2label\": {\n",
      "    \"0\": \"LABEL_0\",\n",
      "    \"1\": \"LABEL_1\",\n",
      "    \"2\": \"LABEL_2\",\n",
      "    \"3\": \"LABEL_3\"\n",
      "  },\n",
      "  \"initializer_range\": 0.02,\n",
      "  \"intermediate_size\": 3072,\n",
      "  \"label2id\": {\n",
      "    \"LABEL_0\": 0,\n",
      "    \"LABEL_1\": 1,\n",
      "    \"LABEL_2\": 2,\n",
      "    \"LABEL_3\": 3\n",
      "  },\n",
      "  \"layer_norm_eps\": 1e-05,\n",
      "  \"max_position_embeddings\": 258,\n",
      "  \"model_type\": \"roberta\",\n",
      "  \"num_attention_heads\": 12,\n",
      "  \"num_hidden_layers\": 12,\n",
      "  \"pad_token_id\": 1,\n",
      "  \"position_embedding_type\": \"absolute\",\n",
      "  \"tokenizer_class\": \"PhobertTokenizer\",\n",
      "  \"torch_dtype\": \"float32\",\n",
      "  \"transformers_version\": \"4.51.3\",\n",
      "  \"type_vocab_size\": 1,\n",
      "  \"use_cache\": true,\n",
      "  \"vocab_size\": 64001\n",
      "}\n",
      "\n"
     ]
    }
   ],
   "source": [
    "N_TOPICS = 4\n",
    "model = AutoModelForSequenceClassification.from_pretrained(MODEL_NAME, num_labels=N_TOPICS).to(device)\n",
    "\n",
    "print(model.config)"
   ]
  },
  {
   "cell_type": "code",
   "execution_count": 16,
   "metadata": {
    "execution": {
     "iopub.execute_input": "2025-06-14T03:39:25.158569Z",
     "iopub.status.busy": "2025-06-14T03:39:25.158212Z",
     "iopub.status.idle": "2025-06-14T03:39:25.561321Z",
     "shell.execute_reply": "2025-06-14T03:39:25.560632Z",
     "shell.execute_reply.started": "2025-06-14T03:39:25.158542Z"
    },
    "trusted": true
   },
   "outputs": [],
   "source": [
    "from transformers import TrainingArguments, Trainer\n",
    "\n",
    "training_args = TrainingArguments(\n",
    "    output_dir=\"./results\",\n",
    "    report_to=[],  # disables all external logging\n",
    "    eval_strategy=\"epoch\",         \n",
    "    save_strategy=\"epoch\",               \n",
    "    logging_strategy=\"epoch\",\n",
    "    learning_rate=2e-5,\n",
    "    per_device_train_batch_size=32,\n",
    "    per_device_eval_batch_size=32,\n",
    "    num_train_epochs=10,\n",
    "    weight_decay=0.01,\n",
    "    load_best_model_at_end=True,\n",
    "    metric_for_best_model=\"f1\",\n",
    "    greater_is_better=True\n",
    ")"
   ]
  },
  {
   "cell_type": "code",
   "execution_count": null,
   "metadata": {
    "execution": {
     "iopub.execute_input": "2025-06-14T03:39:25.562443Z",
     "iopub.status.busy": "2025-06-14T03:39:25.562138Z",
     "iopub.status.idle": "2025-06-14T03:39:25.580546Z",
     "shell.execute_reply": "2025-06-14T03:39:25.579806Z",
     "shell.execute_reply.started": "2025-06-14T03:39:25.562419Z"
    },
    "trusted": true
   },
   "outputs": [],
   "source": [
    "trainer = Trainer(\n",
    "    model=model,\n",
    "    args=training_args,\n",
    "    train_dataset=tokenized_dataset[\"train\"],\n",
    "    eval_dataset=tokenized_dataset[\"validation\"],\n",
    "    tokenizer=tokenizer,\n",
    "    compute_metrics=compute_metrics\n",
    ")"
   ]
  },
  {
   "cell_type": "code",
   "execution_count": 18,
   "metadata": {
    "execution": {
     "iopub.execute_input": "2025-06-14T03:39:25.581632Z",
     "iopub.status.busy": "2025-06-14T03:39:25.581351Z",
     "iopub.status.idle": "2025-06-14T04:04:43.702557Z",
     "shell.execute_reply": "2025-06-14T04:04:43.701854Z",
     "shell.execute_reply.started": "2025-06-14T03:39:25.581609Z"
    },
    "trusted": true
   },
   "outputs": [
    {
     "data": {
      "text/html": [
       "\n",
       "    <div>\n",
       "      \n",
       "      <progress value='3580' max='3580' style='width:300px; height:20px; vertical-align: middle;'></progress>\n",
       "      [3580/3580 25:16, Epoch 10/10]\n",
       "    </div>\n",
       "    <table border=\"1\" class=\"dataframe\">\n",
       "  <thead>\n",
       " <tr style=\"text-align: left;\">\n",
       "      <th>Epoch</th>\n",
       "      <th>Training Loss</th>\n",
       "      <th>Validation Loss</th>\n",
       "      <th>Accuracy</th>\n",
       "      <th>Precision</th>\n",
       "      <th>Recall</th>\n",
       "      <th>F1</th>\n",
       "    </tr>\n",
       "  </thead>\n",
       "  <tbody>\n",
       "    <tr>\n",
       "      <td>1</td>\n",
       "      <td>0.453600</td>\n",
       "      <td>0.308470</td>\n",
       "      <td>0.901453</td>\n",
       "      <td>0.865912</td>\n",
       "      <td>0.770756</td>\n",
       "      <td>0.799222</td>\n",
       "    </tr>\n",
       "    <tr>\n",
       "      <td>2</td>\n",
       "      <td>0.277700</td>\n",
       "      <td>0.318782</td>\n",
       "      <td>0.895136</td>\n",
       "      <td>0.859090</td>\n",
       "      <td>0.776043</td>\n",
       "      <td>0.801086</td>\n",
       "    </tr>\n",
       "    <tr>\n",
       "      <td>3</td>\n",
       "      <td>0.223900</td>\n",
       "      <td>0.329068</td>\n",
       "      <td>0.900190</td>\n",
       "      <td>0.853298</td>\n",
       "      <td>0.778762</td>\n",
       "      <td>0.804379</td>\n",
       "    </tr>\n",
       "    <tr>\n",
       "      <td>4</td>\n",
       "      <td>0.179700</td>\n",
       "      <td>0.387433</td>\n",
       "      <td>0.888187</td>\n",
       "      <td>0.817654</td>\n",
       "      <td>0.783363</td>\n",
       "      <td>0.795763</td>\n",
       "    </tr>\n",
       "    <tr>\n",
       "      <td>5</td>\n",
       "      <td>0.140500</td>\n",
       "      <td>0.404350</td>\n",
       "      <td>0.888819</td>\n",
       "      <td>0.810227</td>\n",
       "      <td>0.799679</td>\n",
       "      <td>0.802848</td>\n",
       "    </tr>\n",
       "    <tr>\n",
       "      <td>6</td>\n",
       "      <td>0.107200</td>\n",
       "      <td>0.438466</td>\n",
       "      <td>0.891977</td>\n",
       "      <td>0.811484</td>\n",
       "      <td>0.805131</td>\n",
       "      <td>0.807098</td>\n",
       "    </tr>\n",
       "    <tr>\n",
       "      <td>7</td>\n",
       "      <td>0.095000</td>\n",
       "      <td>0.487957</td>\n",
       "      <td>0.893872</td>\n",
       "      <td>0.810277</td>\n",
       "      <td>0.788625</td>\n",
       "      <td>0.795971</td>\n",
       "    </tr>\n",
       "    <tr>\n",
       "      <td>8</td>\n",
       "      <td>0.074100</td>\n",
       "      <td>0.503226</td>\n",
       "      <td>0.894504</td>\n",
       "      <td>0.824558</td>\n",
       "      <td>0.793965</td>\n",
       "      <td>0.806604</td>\n",
       "    </tr>\n",
       "    <tr>\n",
       "      <td>9</td>\n",
       "      <td>0.061800</td>\n",
       "      <td>0.529781</td>\n",
       "      <td>0.892609</td>\n",
       "      <td>0.804696</td>\n",
       "      <td>0.792542</td>\n",
       "      <td>0.796179</td>\n",
       "    </tr>\n",
       "    <tr>\n",
       "      <td>10</td>\n",
       "      <td>0.053600</td>\n",
       "      <td>0.531742</td>\n",
       "      <td>0.894504</td>\n",
       "      <td>0.815003</td>\n",
       "      <td>0.795110</td>\n",
       "      <td>0.801682</td>\n",
       "    </tr>\n",
       "  </tbody>\n",
       "</table><p>"
      ],
      "text/plain": [
       "<IPython.core.display.HTML object>"
      ]
     },
     "metadata": {},
     "output_type": "display_data"
    },
    {
     "data": {
      "text/plain": [
       "TrainOutput(global_step=3580, training_loss=0.1667003631591797, metrics={'train_runtime': 1517.7355, 'train_samples_per_second': 75.283, 'train_steps_per_second': 2.359, 'total_flos': 7515902258442240.0, 'train_loss': 0.1667003631591797, 'epoch': 10.0})"
      ]
     },
     "execution_count": 18,
     "metadata": {},
     "output_type": "execute_result"
    }
   ],
   "source": [
    "os.environ[\"WANDB_DISABLED\"] = \"true\"\n",
    "os.environ[\"WANDB_SILENT\"] = \"true\"\n",
    "\n",
    "trainer.train()"
   ]
  },
  {
   "cell_type": "code",
   "execution_count": 19,
   "metadata": {
    "execution": {
     "iopub.execute_input": "2025-06-14T04:04:43.703852Z",
     "iopub.status.busy": "2025-06-14T04:04:43.703360Z",
     "iopub.status.idle": "2025-06-14T04:04:54.691486Z",
     "shell.execute_reply": "2025-06-14T04:04:54.690857Z",
     "shell.execute_reply.started": "2025-06-14T04:04:43.703832Z"
    },
    "trusted": true
   },
   "outputs": [
    {
     "data": {
      "text/html": [
       "\n",
       "    <div>\n",
       "      \n",
       "      <progress value='99' max='99' style='width:300px; height:20px; vertical-align: middle;'></progress>\n",
       "      [99/99 00:10]\n",
       "    </div>\n",
       "    "
      ],
      "text/plain": [
       "<IPython.core.display.HTML object>"
      ]
     },
     "metadata": {},
     "output_type": "display_data"
    },
    {
     "data": {
      "text/plain": [
       "{'eval_loss': 0.42474833130836487,\n",
       " 'eval_accuracy': 0.8894504106127605,\n",
       " 'eval_precision': 0.8031367893824529,\n",
       " 'eval_recall': 0.8097007607306338,\n",
       " 'eval_f1': 0.8063743816011124,\n",
       " 'eval_runtime': 10.956,\n",
       " 'eval_samples_per_second': 288.975,\n",
       " 'eval_steps_per_second': 9.036,\n",
       " 'epoch': 10.0}"
      ]
     },
     "execution_count": 19,
     "metadata": {},
     "output_type": "execute_result"
    }
   ],
   "source": [
    "# Evaluate on test set\n",
    "trainer.evaluate(tokenized_dataset[\"test\"])"
   ]
  },
  {
   "cell_type": "markdown",
   "metadata": {},
   "source": [
    "## Do the same for sentiment classification"
   ]
  },
  {
   "cell_type": "code",
   "execution_count": 13,
   "metadata": {
    "execution": {
     "iopub.execute_input": "2025-06-14T04:23:39.305886Z",
     "iopub.status.busy": "2025-06-14T04:23:39.305098Z",
     "iopub.status.idle": "2025-06-14T04:23:45.349437Z",
     "shell.execute_reply": "2025-06-14T04:23:45.348811Z",
     "shell.execute_reply.started": "2025-06-14T04:23:39.305861Z"
    },
    "trusted": true
   },
   "outputs": [
    {
     "data": {
      "application/vnd.jupyter.widget-view+json": {
       "model_id": "e843d66209e34dabb17d7e88d0fb720e",
       "version_major": 2,
       "version_minor": 0
      },
      "text/plain": [
       "Map:   0%|          | 0/11426 [00:00<?, ? examples/s]"
      ]
     },
     "metadata": {},
     "output_type": "display_data"
    },
    {
     "data": {
      "application/vnd.jupyter.widget-view+json": {
       "model_id": "a087a340539b4f0b86f3a76e0ef3f63f",
       "version_major": 2,
       "version_minor": 0
      },
      "text/plain": [
       "Map:   0%|          | 0/1583 [00:00<?, ? examples/s]"
      ]
     },
     "metadata": {},
     "output_type": "display_data"
    },
    {
     "data": {
      "application/vnd.jupyter.widget-view+json": {
       "model_id": "965d51d92a1e4bf68a560d6293f364d3",
       "version_major": 2,
       "version_minor": 0
      },
      "text/plain": [
       "Map:   0%|          | 0/3166 [00:00<?, ? examples/s]"
      ]
     },
     "metadata": {},
     "output_type": "display_data"
    },
    {
     "name": "stdout",
     "output_type": "stream",
     "text": [
      "{'labels': 2, 'input_ids': [0, 48090, 12301, 997, 5, 2, 1, 1, 1, 1, 1, 1, 1, 1, 1, 1, 1, 1, 1, 1, 1, 1, 1, 1, 1, 1, 1, 1, 1, 1, 1, 1, 1, 1, 1, 1, 1, 1, 1, 1, 1, 1, 1, 1, 1, 1, 1, 1, 1, 1, 1, 1, 1, 1, 1, 1, 1, 1, 1, 1, 1, 1, 1, 1, 1, 1, 1, 1, 1, 1, 1, 1, 1, 1, 1, 1, 1, 1, 1, 1, 1, 1, 1, 1, 1, 1, 1, 1, 1, 1, 1, 1, 1, 1, 1, 1, 1, 1, 1, 1, 1, 1, 1, 1, 1, 1, 1, 1, 1, 1, 1, 1, 1, 1, 1, 1, 1, 1, 1, 1, 1, 1, 1, 1, 1, 1, 1, 1], 'token_type_ids': [0, 0, 0, 0, 0, 0, 0, 0, 0, 0, 0, 0, 0, 0, 0, 0, 0, 0, 0, 0, 0, 0, 0, 0, 0, 0, 0, 0, 0, 0, 0, 0, 0, 0, 0, 0, 0, 0, 0, 0, 0, 0, 0, 0, 0, 0, 0, 0, 0, 0, 0, 0, 0, 0, 0, 0, 0, 0, 0, 0, 0, 0, 0, 0, 0, 0, 0, 0, 0, 0, 0, 0, 0, 0, 0, 0, 0, 0, 0, 0, 0, 0, 0, 0, 0, 0, 0, 0, 0, 0, 0, 0, 0, 0, 0, 0, 0, 0, 0, 0, 0, 0, 0, 0, 0, 0, 0, 0, 0, 0, 0, 0, 0, 0, 0, 0, 0, 0, 0, 0, 0, 0, 0, 0, 0, 0, 0, 0], 'attention_mask': [1, 1, 1, 1, 1, 1, 0, 0, 0, 0, 0, 0, 0, 0, 0, 0, 0, 0, 0, 0, 0, 0, 0, 0, 0, 0, 0, 0, 0, 0, 0, 0, 0, 0, 0, 0, 0, 0, 0, 0, 0, 0, 0, 0, 0, 0, 0, 0, 0, 0, 0, 0, 0, 0, 0, 0, 0, 0, 0, 0, 0, 0, 0, 0, 0, 0, 0, 0, 0, 0, 0, 0, 0, 0, 0, 0, 0, 0, 0, 0, 0, 0, 0, 0, 0, 0, 0, 0, 0, 0, 0, 0, 0, 0, 0, 0, 0, 0, 0, 0, 0, 0, 0, 0, 0, 0, 0, 0, 0, 0, 0, 0, 0, 0, 0, 0, 0, 0, 0, 0, 0, 0, 0, 0, 0, 0, 0, 0]}\n"
     ]
    }
   ],
   "source": [
    "tokenized_dataset = dataset.map(tokenize, batched=True) \\\n",
    "    .rename_columns({'sentiment': 'labels'}) \\\n",
    "    .remove_columns([\"topic\", \"segmented_text\"])\n",
    "print(tokenized_dataset[\"train\"][0])"
   ]
  },
  {
   "cell_type": "code",
   "execution_count": 14,
   "metadata": {
    "execution": {
     "iopub.execute_input": "2025-06-14T04:23:49.757514Z",
     "iopub.status.busy": "2025-06-14T04:23:49.757010Z",
     "iopub.status.idle": "2025-06-14T04:24:06.433531Z",
     "shell.execute_reply": "2025-06-14T04:24:06.432523Z",
     "shell.execute_reply.started": "2025-06-14T04:23:49.757491Z"
    },
    "trusted": true
   },
   "outputs": [
    {
     "name": "stderr",
     "output_type": "stream",
     "text": [
      "2025-06-14 04:23:52.000628: E external/local_xla/xla/stream_executor/cuda/cuda_fft.cc:477] Unable to register cuFFT factory: Attempting to register factory for plugin cuFFT when one has already been registered\n",
      "WARNING: All log messages before absl::InitializeLog() is called are written to STDERR\n",
      "E0000 00:00:1749875032.184434      35 cuda_dnn.cc:8310] Unable to register cuDNN factory: Attempting to register factory for plugin cuDNN when one has already been registered\n",
      "E0000 00:00:1749875032.241157      35 cuda_blas.cc:1418] Unable to register cuBLAS factory: Attempting to register factory for plugin cuBLAS when one has already been registered\n"
     ]
    },
    {
     "data": {
      "application/vnd.jupyter.widget-view+json": {
       "model_id": "457eddf43c164cdab9a7a31519f40485",
       "version_major": 2,
       "version_minor": 0
      },
      "text/plain": [
       "pytorch_model.bin:   0%|          | 0.00/540M [00:00<?, ?B/s]"
      ]
     },
     "metadata": {},
     "output_type": "display_data"
    },
    {
     "name": "stderr",
     "output_type": "stream",
     "text": [
      "Some weights of RobertaForSequenceClassification were not initialized from the model checkpoint at vinai/phobert-base-v2 and are newly initialized: ['classifier.dense.bias', 'classifier.dense.weight', 'classifier.out_proj.bias', 'classifier.out_proj.weight']\n",
      "You should probably TRAIN this model on a down-stream task to be able to use it for predictions and inference.\n"
     ]
    },
    {
     "data": {
      "application/vnd.jupyter.widget-view+json": {
       "model_id": "974989d206a242adafcd6586a8bfd681",
       "version_major": 2,
       "version_minor": 0
      },
      "text/plain": [
       "model.safetensors:   0%|          | 0.00/540M [00:00<?, ?B/s]"
      ]
     },
     "metadata": {},
     "output_type": "display_data"
    },
    {
     "name": "stdout",
     "output_type": "stream",
     "text": [
      "RobertaConfig {\n",
      "  \"_attn_implementation_autoset\": true,\n",
      "  \"architectures\": [\n",
      "    \"RobertaForMaskedLM\"\n",
      "  ],\n",
      "  \"attention_probs_dropout_prob\": 0.1,\n",
      "  \"bos_token_id\": 0,\n",
      "  \"classifier_dropout\": null,\n",
      "  \"eos_token_id\": 2,\n",
      "  \"hidden_act\": \"gelu\",\n",
      "  \"hidden_dropout_prob\": 0.1,\n",
      "  \"hidden_size\": 768,\n",
      "  \"id2label\": {\n",
      "    \"0\": \"LABEL_0\",\n",
      "    \"1\": \"LABEL_1\",\n",
      "    \"2\": \"LABEL_2\"\n",
      "  },\n",
      "  \"initializer_range\": 0.02,\n",
      "  \"intermediate_size\": 3072,\n",
      "  \"label2id\": {\n",
      "    \"LABEL_0\": 0,\n",
      "    \"LABEL_1\": 1,\n",
      "    \"LABEL_2\": 2\n",
      "  },\n",
      "  \"layer_norm_eps\": 1e-05,\n",
      "  \"max_position_embeddings\": 258,\n",
      "  \"model_type\": \"roberta\",\n",
      "  \"num_attention_heads\": 12,\n",
      "  \"num_hidden_layers\": 12,\n",
      "  \"pad_token_id\": 1,\n",
      "  \"position_embedding_type\": \"absolute\",\n",
      "  \"tokenizer_class\": \"PhobertTokenizer\",\n",
      "  \"torch_dtype\": \"float32\",\n",
      "  \"transformers_version\": \"4.51.3\",\n",
      "  \"type_vocab_size\": 1,\n",
      "  \"use_cache\": true,\n",
      "  \"vocab_size\": 64001\n",
      "}\n",
      "\n"
     ]
    }
   ],
   "source": [
    "N_SENTIMENTS = 3\n",
    "model = AutoModelForSequenceClassification.from_pretrained(MODEL_NAME, num_labels=N_SENTIMENTS).to(device)\n",
    "\n",
    "print(model.config)"
   ]
  },
  {
   "cell_type": "code",
   "execution_count": 15,
   "metadata": {
    "execution": {
     "iopub.execute_input": "2025-06-14T04:24:06.435882Z",
     "iopub.status.busy": "2025-06-14T04:24:06.435384Z",
     "iopub.status.idle": "2025-06-14T04:24:08.469001Z",
     "shell.execute_reply": "2025-06-14T04:24:08.468098Z",
     "shell.execute_reply.started": "2025-06-14T04:24:06.435863Z"
    },
    "trusted": true
   },
   "outputs": [],
   "source": [
    "from transformers import TrainingArguments, Trainer\n",
    "\n",
    "training_args = TrainingArguments(\n",
    "    output_dir=\"./results\",\n",
    "    report_to=[],  # disables all external logging\n",
    "    eval_strategy=\"epoch\",         \n",
    "    save_strategy=\"epoch\",               \n",
    "    logging_strategy=\"epoch\",\n",
    "    learning_rate=2e-5,\n",
    "    per_device_train_batch_size=32,\n",
    "    per_device_eval_batch_size=32,\n",
    "    num_train_epochs=10,\n",
    "    weight_decay=0.01,\n",
    "    load_best_model_at_end=True,\n",
    "    metric_for_best_model=\"f1\",\n",
    "    greater_is_better=True\n",
    ")"
   ]
  },
  {
   "cell_type": "code",
   "execution_count": null,
   "metadata": {
    "execution": {
     "iopub.execute_input": "2025-06-14T04:24:08.470634Z",
     "iopub.status.busy": "2025-06-14T04:24:08.470330Z",
     "iopub.status.idle": "2025-06-14T04:24:08.496893Z",
     "shell.execute_reply": "2025-06-14T04:24:08.495634Z",
     "shell.execute_reply.started": "2025-06-14T04:24:08.470607Z"
    },
    "trusted": true
   },
   "outputs": [],
   "source": [
    "trainer = Trainer(\n",
    "    model=model,\n",
    "    args=training_args,\n",
    "    train_dataset=tokenized_dataset[\"train\"],\n",
    "    eval_dataset=tokenized_dataset[\"validation\"],\n",
    "    tokenizer=tokenizer,\n",
    "    compute_metrics=compute_metrics\n",
    ")"
   ]
  },
  {
   "cell_type": "code",
   "execution_count": 17,
   "metadata": {
    "execution": {
     "iopub.execute_input": "2025-06-14T04:24:08.498668Z",
     "iopub.status.busy": "2025-06-14T04:24:08.498276Z",
     "iopub.status.idle": "2025-06-14T04:49:18.591795Z",
     "shell.execute_reply": "2025-06-14T04:49:18.591233Z",
     "shell.execute_reply.started": "2025-06-14T04:24:08.498644Z"
    },
    "trusted": true
   },
   "outputs": [
    {
     "data": {
      "text/html": [
       "\n",
       "    <div>\n",
       "      \n",
       "      <progress value='3580' max='3580' style='width:300px; height:20px; vertical-align: middle;'></progress>\n",
       "      [3580/3580 25:08, Epoch 10/10]\n",
       "    </div>\n",
       "    <table border=\"1\" class=\"dataframe\">\n",
       "  <thead>\n",
       " <tr style=\"text-align: left;\">\n",
       "      <th>Epoch</th>\n",
       "      <th>Training Loss</th>\n",
       "      <th>Validation Loss</th>\n",
       "      <th>Accuracy</th>\n",
       "      <th>Precision</th>\n",
       "      <th>Recall</th>\n",
       "      <th>F1</th>\n",
       "    </tr>\n",
       "  </thead>\n",
       "  <tbody>\n",
       "    <tr>\n",
       "      <td>1</td>\n",
       "      <td>0.281700</td>\n",
       "      <td>0.208753</td>\n",
       "      <td>0.944409</td>\n",
       "      <td>0.888672</td>\n",
       "      <td>0.808288</td>\n",
       "      <td>0.838575</td>\n",
       "    </tr>\n",
       "    <tr>\n",
       "      <td>2</td>\n",
       "      <td>0.165800</td>\n",
       "      <td>0.200434</td>\n",
       "      <td>0.953253</td>\n",
       "      <td>0.910134</td>\n",
       "      <td>0.847889</td>\n",
       "      <td>0.873678</td>\n",
       "    </tr>\n",
       "    <tr>\n",
       "      <td>3</td>\n",
       "      <td>0.128500</td>\n",
       "      <td>0.187443</td>\n",
       "      <td>0.951358</td>\n",
       "      <td>0.884902</td>\n",
       "      <td>0.858986</td>\n",
       "      <td>0.870924</td>\n",
       "    </tr>\n",
       "    <tr>\n",
       "      <td>4</td>\n",
       "      <td>0.096200</td>\n",
       "      <td>0.205412</td>\n",
       "      <td>0.951990</td>\n",
       "      <td>0.905082</td>\n",
       "      <td>0.830041</td>\n",
       "      <td>0.859637</td>\n",
       "    </tr>\n",
       "    <tr>\n",
       "      <td>5</td>\n",
       "      <td>0.072200</td>\n",
       "      <td>0.226170</td>\n",
       "      <td>0.950095</td>\n",
       "      <td>0.871560</td>\n",
       "      <td>0.882424</td>\n",
       "      <td>0.876824</td>\n",
       "    </tr>\n",
       "    <tr>\n",
       "      <td>6</td>\n",
       "      <td>0.058600</td>\n",
       "      <td>0.257324</td>\n",
       "      <td>0.948200</td>\n",
       "      <td>0.877961</td>\n",
       "      <td>0.852528</td>\n",
       "      <td>0.864259</td>\n",
       "    </tr>\n",
       "    <tr>\n",
       "      <td>7</td>\n",
       "      <td>0.052300</td>\n",
       "      <td>0.277106</td>\n",
       "      <td>0.946304</td>\n",
       "      <td>0.851224</td>\n",
       "      <td>0.875612</td>\n",
       "      <td>0.862494</td>\n",
       "    </tr>\n",
       "    <tr>\n",
       "      <td>8</td>\n",
       "      <td>0.039600</td>\n",
       "      <td>0.267263</td>\n",
       "      <td>0.953253</td>\n",
       "      <td>0.892222</td>\n",
       "      <td>0.868297</td>\n",
       "      <td>0.879452</td>\n",
       "    </tr>\n",
       "    <tr>\n",
       "      <td>9</td>\n",
       "      <td>0.030500</td>\n",
       "      <td>0.289179</td>\n",
       "      <td>0.948831</td>\n",
       "      <td>0.876424</td>\n",
       "      <td>0.865046</td>\n",
       "      <td>0.870551</td>\n",
       "    </tr>\n",
       "    <tr>\n",
       "      <td>10</td>\n",
       "      <td>0.027600</td>\n",
       "      <td>0.292444</td>\n",
       "      <td>0.950726</td>\n",
       "      <td>0.876084</td>\n",
       "      <td>0.870558</td>\n",
       "      <td>0.873276</td>\n",
       "    </tr>\n",
       "  </tbody>\n",
       "</table><p>"
      ],
      "text/plain": [
       "<IPython.core.display.HTML object>"
      ]
     },
     "metadata": {},
     "output_type": "display_data"
    },
    {
     "data": {
      "text/plain": [
       "TrainOutput(global_step=3580, training_loss=0.0952922493385869, metrics={'train_runtime': 1509.6267, 'train_samples_per_second': 75.688, 'train_steps_per_second': 2.371, 'total_flos': 7515834777400320.0, 'train_loss': 0.0952922493385869, 'epoch': 10.0})"
      ]
     },
     "execution_count": 17,
     "metadata": {},
     "output_type": "execute_result"
    }
   ],
   "source": [
    "os.environ[\"WANDB_DISABLED\"] = \"true\"\n",
    "os.environ[\"WANDB_SILENT\"] = \"true\"\n",
    "\n",
    "trainer.train()"
   ]
  },
  {
   "cell_type": "code",
   "execution_count": 18,
   "metadata": {
    "execution": {
     "iopub.execute_input": "2025-06-14T04:49:18.593880Z",
     "iopub.status.busy": "2025-06-14T04:49:18.593434Z",
     "iopub.status.idle": "2025-06-14T04:49:29.950925Z",
     "shell.execute_reply": "2025-06-14T04:49:29.950226Z",
     "shell.execute_reply.started": "2025-06-14T04:49:18.593860Z"
    },
    "trusted": true
   },
   "outputs": [
    {
     "data": {
      "text/html": [
       "\n",
       "    <div>\n",
       "      \n",
       "      <progress value='99' max='99' style='width:300px; height:20px; vertical-align: middle;'></progress>\n",
       "      [99/99 00:11]\n",
       "    </div>\n",
       "    "
      ],
      "text/plain": [
       "<IPython.core.display.HTML object>"
      ]
     },
     "metadata": {},
     "output_type": "display_data"
    },
    {
     "data": {
      "text/plain": [
       "{'eval_loss': 0.319315105676651,\n",
       " 'eval_accuracy': 0.941566645609602,\n",
       " 'eval_precision': 0.8654858870090907,\n",
       " 'eval_recall': 0.8188004687938335,\n",
       " 'eval_f1': 0.8383469377030993,\n",
       " 'eval_runtime': 11.3294,\n",
       " 'eval_samples_per_second': 279.449,\n",
       " 'eval_steps_per_second': 8.738,\n",
       " 'epoch': 10.0}"
      ]
     },
     "execution_count": 18,
     "metadata": {},
     "output_type": "execute_result"
    }
   ],
   "source": [
    "# Evaluate on test set\n",
    "trainer.evaluate(tokenized_dataset[\"test\"])"
   ]
  },
  {
   "cell_type": "code",
   "execution_count": null,
   "metadata": {
    "trusted": true
   },
   "outputs": [],
   "source": []
  }
 ],
 "metadata": {
  "kaggle": {
   "accelerator": "gpu",
   "dataSources": [
    {
     "datasetId": 7648776,
     "sourceId": 12144514,
     "sourceType": "datasetVersion"
    }
   ],
   "dockerImageVersionId": 31041,
   "isGpuEnabled": true,
   "isInternetEnabled": true,
   "language": "python",
   "sourceType": "notebook"
  },
  "kernelspec": {
   "display_name": "Python 3",
   "language": "python",
   "name": "python3"
  },
  "language_info": {
   "codemirror_mode": {
    "name": "ipython",
    "version": 3
   },
   "file_extension": ".py",
   "mimetype": "text/x-python",
   "name": "python",
   "nbconvert_exporter": "python",
   "pygments_lexer": "ipython3",
   "version": "3.11.11"
  }
 },
 "nbformat": 4,
 "nbformat_minor": 4
}
